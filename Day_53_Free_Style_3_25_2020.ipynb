{
  "nbformat": 4,
  "nbformat_minor": 0,
  "metadata": {
    "colab": {
      "name": "Day 53  --Free Style 3-25-2020.ipynb",
      "provenance": [],
      "collapsed_sections": [],
      "authorship_tag": "ABX9TyNwXWTT0fQxI+iyL6+l73ZZ",
      "include_colab_link": true
    },
    "kernelspec": {
      "name": "python3",
      "display_name": "Python 3"
    }
  },
  "cells": [
    {
      "cell_type": "markdown",
      "metadata": {
        "id": "view-in-github",
        "colab_type": "text"
      },
      "source": [
        "<a href=\"https://colab.research.google.com/github/AlexBB999/junk/blob/master/Day_53_Free_Style_3_25_2020.ipynb\" target=\"_parent\"><img src=\"https://colab.research.google.com/assets/colab-badge.svg\" alt=\"Open In Colab\"/></a>"
      ]
    },
    {
      "cell_type": "markdown",
      "metadata": {
        "id": "1rg3mVzz1lmZ",
        "colab_type": "text"
      },
      "source": [
        "Load the the wine quality data set. Data set\n",
        "\n",
        "Fit PCA to all 12 components and plot the cumulative sum of the ‘pca.explained_variance_ratio_’\n",
        "\n",
        "Identify the number of principal components to explain 90% of the variance.\n",
        "Build a logistic regression model and record the accuracy.\n",
        "\n",
        "Fit LLE with the same number of components and 30 neighbors, then repeat 4).\n",
        "\n",
        "Record your observations and identify your top performing model\n",
        "\n",
        " Does manifold learning improve predictive performance over PCA?"
      ]
    },
    {
      "cell_type": "code",
      "metadata": {
        "id": "rz-VVGR80dk_",
        "colab_type": "code",
        "colab": {}
      },
      "source": [
        "import numpy as np\n",
        "import pandas as pd\n",
        "import matplotlib.pyplot as plt\n",
        "import seaborn as sns\n",
        "%matplotlib inline"
      ],
      "execution_count": 0,
      "outputs": []
    },
    {
      "cell_type": "code",
      "metadata": {
        "id": "2LGJLFxn0sAT",
        "colab_type": "code",
        "colab": {}
      },
      "source": [
        "wine=pd.read_csv('https://raw.githubusercontent.com/AlexBB999/junk/master/wineQualityReds.csv')"
      ],
      "execution_count": 0,
      "outputs": []
    },
    {
      "cell_type": "code",
      "metadata": {
        "id": "lojK1Klz049L",
        "colab_type": "code",
        "outputId": "9ca239f2-fd1a-4f66-90c4-3271aec4a3b9",
        "colab": {
          "base_uri": "https://localhost:8080/",
          "height": 195
        }
      },
      "source": [
        "wine.head()"
      ],
      "execution_count": 31,
      "outputs": [
        {
          "output_type": "execute_result",
          "data": {
            "text/html": [
              "<div>\n",
              "<style scoped>\n",
              "    .dataframe tbody tr th:only-of-type {\n",
              "        vertical-align: middle;\n",
              "    }\n",
              "\n",
              "    .dataframe tbody tr th {\n",
              "        vertical-align: top;\n",
              "    }\n",
              "\n",
              "    .dataframe thead th {\n",
              "        text-align: right;\n",
              "    }\n",
              "</style>\n",
              "<table border=\"1\" class=\"dataframe\">\n",
              "  <thead>\n",
              "    <tr style=\"text-align: right;\">\n",
              "      <th></th>\n",
              "      <th>Unnamed: 0</th>\n",
              "      <th>fixed.acidity</th>\n",
              "      <th>volatile.acidity</th>\n",
              "      <th>citric.acid</th>\n",
              "      <th>residual.sugar</th>\n",
              "      <th>chlorides</th>\n",
              "      <th>free.sulfur.dioxide</th>\n",
              "      <th>total.sulfur.dioxide</th>\n",
              "      <th>density</th>\n",
              "      <th>pH</th>\n",
              "      <th>sulphates</th>\n",
              "      <th>alcohol</th>\n",
              "      <th>quality</th>\n",
              "    </tr>\n",
              "  </thead>\n",
              "  <tbody>\n",
              "    <tr>\n",
              "      <th>0</th>\n",
              "      <td>1</td>\n",
              "      <td>7.4</td>\n",
              "      <td>0.70</td>\n",
              "      <td>0.00</td>\n",
              "      <td>1.9</td>\n",
              "      <td>0.076</td>\n",
              "      <td>11.0</td>\n",
              "      <td>34.0</td>\n",
              "      <td>0.9978</td>\n",
              "      <td>3.51</td>\n",
              "      <td>0.56</td>\n",
              "      <td>9.4</td>\n",
              "      <td>5</td>\n",
              "    </tr>\n",
              "    <tr>\n",
              "      <th>1</th>\n",
              "      <td>2</td>\n",
              "      <td>7.8</td>\n",
              "      <td>0.88</td>\n",
              "      <td>0.00</td>\n",
              "      <td>2.6</td>\n",
              "      <td>0.098</td>\n",
              "      <td>25.0</td>\n",
              "      <td>67.0</td>\n",
              "      <td>0.9968</td>\n",
              "      <td>3.20</td>\n",
              "      <td>0.68</td>\n",
              "      <td>9.8</td>\n",
              "      <td>5</td>\n",
              "    </tr>\n",
              "    <tr>\n",
              "      <th>2</th>\n",
              "      <td>3</td>\n",
              "      <td>7.8</td>\n",
              "      <td>0.76</td>\n",
              "      <td>0.04</td>\n",
              "      <td>2.3</td>\n",
              "      <td>0.092</td>\n",
              "      <td>15.0</td>\n",
              "      <td>54.0</td>\n",
              "      <td>0.9970</td>\n",
              "      <td>3.26</td>\n",
              "      <td>0.65</td>\n",
              "      <td>9.8</td>\n",
              "      <td>5</td>\n",
              "    </tr>\n",
              "    <tr>\n",
              "      <th>3</th>\n",
              "      <td>4</td>\n",
              "      <td>11.2</td>\n",
              "      <td>0.28</td>\n",
              "      <td>0.56</td>\n",
              "      <td>1.9</td>\n",
              "      <td>0.075</td>\n",
              "      <td>17.0</td>\n",
              "      <td>60.0</td>\n",
              "      <td>0.9980</td>\n",
              "      <td>3.16</td>\n",
              "      <td>0.58</td>\n",
              "      <td>9.8</td>\n",
              "      <td>6</td>\n",
              "    </tr>\n",
              "    <tr>\n",
              "      <th>4</th>\n",
              "      <td>5</td>\n",
              "      <td>7.4</td>\n",
              "      <td>0.70</td>\n",
              "      <td>0.00</td>\n",
              "      <td>1.9</td>\n",
              "      <td>0.076</td>\n",
              "      <td>11.0</td>\n",
              "      <td>34.0</td>\n",
              "      <td>0.9978</td>\n",
              "      <td>3.51</td>\n",
              "      <td>0.56</td>\n",
              "      <td>9.4</td>\n",
              "      <td>5</td>\n",
              "    </tr>\n",
              "  </tbody>\n",
              "</table>\n",
              "</div>"
            ],
            "text/plain": [
              "   Unnamed: 0  fixed.acidity  volatile.acidity  ...  sulphates  alcohol  quality\n",
              "0           1            7.4              0.70  ...       0.56      9.4        5\n",
              "1           2            7.8              0.88  ...       0.68      9.8        5\n",
              "2           3            7.8              0.76  ...       0.65      9.8        5\n",
              "3           4           11.2              0.28  ...       0.58      9.8        6\n",
              "4           5            7.4              0.70  ...       0.56      9.4        5\n",
              "\n",
              "[5 rows x 13 columns]"
            ]
          },
          "metadata": {
            "tags": []
          },
          "execution_count": 31
        }
      ]
    },
    {
      "cell_type": "code",
      "metadata": {
        "id": "N4HvUayg0_ET",
        "colab_type": "code",
        "outputId": "1ef4a884-6426-4945-8737-456885b0be9b",
        "colab": {
          "base_uri": "https://localhost:8080/",
          "height": 34
        }
      },
      "source": [
        "wine.shape"
      ],
      "execution_count": 32,
      "outputs": [
        {
          "output_type": "execute_result",
          "data": {
            "text/plain": [
              "(1599, 13)"
            ]
          },
          "metadata": {
            "tags": []
          },
          "execution_count": 32
        }
      ]
    },
    {
      "cell_type": "code",
      "metadata": {
        "id": "mLkNBPCK15Yb",
        "colab_type": "code",
        "outputId": "aa3174ce-5c0f-4628-8638-89393e9afc8a",
        "colab": {
          "base_uri": "https://localhost:8080/",
          "height": 319
        }
      },
      "source": [
        "wine.info()"
      ],
      "execution_count": 33,
      "outputs": [
        {
          "output_type": "stream",
          "text": [
            "<class 'pandas.core.frame.DataFrame'>\n",
            "RangeIndex: 1599 entries, 0 to 1598\n",
            "Data columns (total 13 columns):\n",
            "Unnamed: 0              1599 non-null int64\n",
            "fixed.acidity           1599 non-null float64\n",
            "volatile.acidity        1599 non-null float64\n",
            "citric.acid             1599 non-null float64\n",
            "residual.sugar          1599 non-null float64\n",
            "chlorides               1599 non-null float64\n",
            "free.sulfur.dioxide     1599 non-null float64\n",
            "total.sulfur.dioxide    1599 non-null float64\n",
            "density                 1599 non-null float64\n",
            "pH                      1599 non-null float64\n",
            "sulphates               1599 non-null float64\n",
            "alcohol                 1599 non-null float64\n",
            "quality                 1599 non-null int64\n",
            "dtypes: float64(11), int64(2)\n",
            "memory usage: 162.5 KB\n"
          ],
          "name": "stdout"
        }
      ]
    },
    {
      "cell_type": "code",
      "metadata": {
        "id": "ex0Li-4y2A5l",
        "colab_type": "code",
        "colab": {}
      },
      "source": [
        "x=wine.drop('quality',1)"
      ],
      "execution_count": 0,
      "outputs": []
    },
    {
      "cell_type": "code",
      "metadata": {
        "id": "QOJaLVeG1Gyr",
        "colab_type": "code",
        "colab": {}
      },
      "source": [
        "from sklearn.preprocessing import StandardScaler\n",
        "scale = StandardScaler()\n",
        "df_std = scale.fit_transform(x)"
      ],
      "execution_count": 0,
      "outputs": []
    },
    {
      "cell_type": "code",
      "metadata": {
        "id": "Vly34Psp0NBu",
        "colab_type": "code",
        "outputId": "3afc2111-3e79-4b0f-a738-398d943e3466",
        "colab": {
          "base_uri": "https://localhost:8080/",
          "height": 235
        }
      },
      "source": [
        "from sklearn.decomposition import PCA\n",
        "scikit_pca = PCA()\n",
        "pca = PCA(n_components = 12)\n",
        "\n",
        "pca.fit_transform(df_std)"
      ],
      "execution_count": 36,
      "outputs": [
        {
          "output_type": "execute_result",
          "data": {
            "text/plain": [
              "array([[-1.10503704,  1.01738783, -2.23928527, ..., -0.27831568,\n",
              "        -0.12977405,  0.01773556],\n",
              "       [-0.31147729,  2.23038887, -1.10113815, ..., -0.87247647,\n",
              "         0.25380925, -0.18097043],\n",
              "       [-0.27670935,  1.30491076, -1.49627925, ..., -0.46248966,\n",
              "        -0.02321726, -0.15443708],\n",
              "       ...,\n",
              "       [-1.83311006,  0.02614818,  1.422036  , ..., -0.43618222,\n",
              "         0.14186282, -0.3786242 ],\n",
              "       [-2.58477688,  0.79211269,  0.95249609, ..., -0.13640895,\n",
              "         0.65142485,  0.06414836],\n",
              "       [-0.87709224, -0.93222218,  1.89664547, ...,  0.70235205,\n",
              "         0.62317395, -0.42489573]])"
            ]
          },
          "metadata": {
            "tags": []
          },
          "execution_count": 36
        }
      ]
    },
    {
      "cell_type": "code",
      "metadata": {
        "id": "6ctdBPjI2zwL",
        "colab_type": "code",
        "outputId": "b0f35397-5766-4876-dc9a-9a24646313ff",
        "colab": {
          "base_uri": "https://localhost:8080/",
          "height": 282
        }
      },
      "source": [
        "plt.plot(np.cumsum(pca.explained_variance_ratio_))"
      ],
      "execution_count": 37,
      "outputs": [
        {
          "output_type": "execute_result",
          "data": {
            "text/plain": [
              "[<matplotlib.lines.Line2D at 0x7fe4dc16ecc0>]"
            ]
          },
          "metadata": {
            "tags": []
          },
          "execution_count": 37
        },
        {
          "output_type": "display_data",
          "data": {
            "image/png": "[encoded data removed]",
            "text/plain": [
              "<Figure size 432x288 with 1 Axes>"
            ]
          },
          "metadata": {
            "tags": []
          }
        }
      ]
    },
    {
      "cell_type": "code",
      "metadata": {
        "id": "WtoYZDqV5AOo",
        "colab_type": "code",
        "colab": {}
      },
      "source": [
        "# PCA with 2 components:\n",
        "pca = PCA(n_components=2)\n",
        "X_pca=pca.fit_transform(df_std)"
      ],
      "execution_count": 0,
      "outputs": []
    },
    {
      "cell_type": "code",
      "metadata": {
        "id": "qXQq3ZHf5dJK",
        "colab_type": "code",
        "colab": {}
      },
      "source": [
        "target=wine['quality']"
      ],
      "execution_count": 0,
      "outputs": []
    },
    {
      "cell_type": "code",
      "metadata": {
        "id": "eghvf4HK5NbW",
        "colab_type": "code",
        "outputId": "3424aa2b-2428-47cb-8a62-d8aad5a0b962",
        "colab": {
          "base_uri": "https://localhost:8080/",
          "height": 283
        }
      },
      "source": [
        "# The following will plot your first two components\n",
        "plt.scatter(X_pca[:, 0], X_pca[:, 1],\n",
        "            c=target, edgecolor='none', alpha=0.5,\n",
        "            cmap=plt.cm.get_cmap('Spectral', 10))\n",
        "plt.xlabel('component 1')\n",
        "plt.ylabel('component 2')\n",
        "plt.colorbar();"
      ],
      "execution_count": 40,
      "outputs": [
        {
          "output_type": "display_data",
          "data": {
            "image/png": "[encoded data removed]",
            "text/plain": [
              "<Figure size 432x288 with 2 Axes>"
            ]
          },
          "metadata": {
            "tags": []
          }
        }
      ]
    },
    {
      "cell_type": "markdown",
      "metadata": {
        "id": "MwVALGyZ5rbW",
        "colab_type": "text"
      },
      "source": [
        "**LOGISTIC REGRESSION**"
      ]
    },
    {
      "cell_type": "code",
      "metadata": {
        "id": "p6_r5Lfd4PQ9",
        "colab_type": "code",
        "colab": {}
      },
      "source": [
        "X=x\n",
        "y=target\n",
        "from sklearn.model_selection import train_test_split\n",
        "X_train, X_test, y_train, y_test = train_test_split(X, y, test_size=0.3, \n",
        "                                                    stratify=y, random_state=42)"
      ],
      "execution_count": 0,
      "outputs": []
    },
    {
      "cell_type": "code",
      "metadata": {
        "id": "H1c9yT43BZh1",
        "colab_type": "code",
        "colab": {}
      },
      "source": [
        "import statsmodels.api as sm\n",
        "#X_train = sm.add_constant(X_train)\n",
        "results = sm.Logit( y_train,X_train).fit()\n",
        "\n",
        "\n",
        "# We print the summary results\n",
        "print(results.summary())"
      ],
      "execution_count": 0,
      "outputs": []
    }
  ]
}