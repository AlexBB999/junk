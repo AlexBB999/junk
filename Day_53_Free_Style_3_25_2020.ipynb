{
  "nbformat": 4,
  "nbformat_minor": 0,
  "metadata": {
    "colab": {
      "name": "Day 53  --Free Style 3-25-2020.ipynb",
      "provenance": [],
      "collapsed_sections": [],
      "authorship_tag": "ABX9TyOaycBZheW8YAmYTZ6yuaij",
      "include_colab_link": true
    },
    "kernelspec": {
      "name": "python3",
      "display_name": "Python 3"
    }
  },
  "cells": [
    {
      "cell_type": "markdown",
      "metadata": {
        "id": "view-in-github",
        "colab_type": "text"
      },
      "source": [
        "<a href=\"https://colab.research.google.com/github/AlexBB999/junk/blob/master/Day_53_Free_Style_3_25_2020.ipynb\" target=\"_parent\"><img src=\"https://colab.research.google.com/assets/colab-badge.svg\" alt=\"Open In Colab\"/></a>"
      ]
    },
    {
      "cell_type": "markdown",
      "metadata": {
        "id": "1rg3mVzz1lmZ",
        "colab_type": "text"
      },
      "source": [
        "Load the the wine quality data set. Data set\n",
        "\n",
        "Fit PCA to all 12 components and plot the cumulative sum of the ‘pca.explained_variance_ratio_’\n",
        "\n",
        "Identify the number of principal components to explain 90% of the variance.\n",
        "Build a logistic regression model and record the accuracy.\n",
        "\n",
        "Fit LLE with the same number of components and 30 neighbors, then repeat 4).\n",
        "\n",
        "Record your observations and identify your top performing model\n",
        "\n",
        " Does manifold learning improve predictive performance over PCA?"
      ]
    },
    {
      "cell_type": "code",
      "metadata": {
        "id": "rz-VVGR80dk_",
        "colab_type": "code",
        "colab": {}
      },
      "source": [
        "import numpy as np\n",
        "import pandas as pd\n",
        "import matplotlib.pyplot as plt\n",
        "import seaborn as sns\n",
        "from sklearn.linear_model import LogisticRegression\n",
        "from sklearn.decomposition import PCA\n",
        "from sklearn import metrics\n",
        "%matplotlib inline\n",
        "import warnings\n",
        "warnings.filterwarnings('ignore')"
      ],
      "execution_count": 0,
      "outputs": []
    },
    {
      "cell_type": "code",
      "metadata": {
        "id": "2LGJLFxn0sAT",
        "colab_type": "code",
        "colab": {}
      },
      "source": [
        "wine=pd.read_csv('https://raw.githubusercontent.com/AlexBB999/junk/master/wineQualityReds.csv')"
      ],
      "execution_count": 0,
      "outputs": []
    },
    {
      "cell_type": "code",
      "metadata": {
        "id": "lojK1Klz049L",
        "colab_type": "code",
        "outputId": "737a9097-0a64-4359-bb87-e895ab9a8e9e",
        "colab": {
          "base_uri": "https://localhost:8080/",
          "height": 195
        }
      },
      "source": [
        "wine.head()"
      ],
      "execution_count": 3,
      "outputs": [
        {
          "output_type": "execute_result",
          "data": {
            "text/html": [
              "<div>\n",
              "<style scoped>\n",
              "    .dataframe tbody tr th:only-of-type {\n",
              "        vertical-align: middle;\n",
              "    }\n",
              "\n",
              "    .dataframe tbody tr th {\n",
              "        vertical-align: top;\n",
              "    }\n",
              "\n",
              "    .dataframe thead th {\n",
              "        text-align: right;\n",
              "    }\n",
              "</style>\n",
              "<table border=\"1\" class=\"dataframe\">\n",
              "  <thead>\n",
              "    <tr style=\"text-align: right;\">\n",
              "      <th></th>\n",
              "      <th>Unnamed: 0</th>\n",
              "      <th>fixed.acidity</th>\n",
              "      <th>volatile.acidity</th>\n",
              "      <th>citric.acid</th>\n",
              "      <th>residual.sugar</th>\n",
              "      <th>chlorides</th>\n",
              "      <th>free.sulfur.dioxide</th>\n",
              "      <th>total.sulfur.dioxide</th>\n",
              "      <th>density</th>\n",
              "      <th>pH</th>\n",
              "      <th>sulphates</th>\n",
              "      <th>alcohol</th>\n",
              "      <th>quality</th>\n",
              "    </tr>\n",
              "  </thead>\n",
              "  <tbody>\n",
              "    <tr>\n",
              "      <th>0</th>\n",
              "      <td>1</td>\n",
              "      <td>7.4</td>\n",
              "      <td>0.70</td>\n",
              "      <td>0.00</td>\n",
              "      <td>1.9</td>\n",
              "      <td>0.076</td>\n",
              "      <td>11.0</td>\n",
              "      <td>34.0</td>\n",
              "      <td>0.9978</td>\n",
              "      <td>3.51</td>\n",
              "      <td>0.56</td>\n",
              "      <td>9.4</td>\n",
              "      <td>5</td>\n",
              "    </tr>\n",
              "    <tr>\n",
              "      <th>1</th>\n",
              "      <td>2</td>\n",
              "      <td>7.8</td>\n",
              "      <td>0.88</td>\n",
              "      <td>0.00</td>\n",
              "      <td>2.6</td>\n",
              "      <td>0.098</td>\n",
              "      <td>25.0</td>\n",
              "      <td>67.0</td>\n",
              "      <td>0.9968</td>\n",
              "      <td>3.20</td>\n",
              "      <td>0.68</td>\n",
              "      <td>9.8</td>\n",
              "      <td>5</td>\n",
              "    </tr>\n",
              "    <tr>\n",
              "      <th>2</th>\n",
              "      <td>3</td>\n",
              "      <td>7.8</td>\n",
              "      <td>0.76</td>\n",
              "      <td>0.04</td>\n",
              "      <td>2.3</td>\n",
              "      <td>0.092</td>\n",
              "      <td>15.0</td>\n",
              "      <td>54.0</td>\n",
              "      <td>0.9970</td>\n",
              "      <td>3.26</td>\n",
              "      <td>0.65</td>\n",
              "      <td>9.8</td>\n",
              "      <td>5</td>\n",
              "    </tr>\n",
              "    <tr>\n",
              "      <th>3</th>\n",
              "      <td>4</td>\n",
              "      <td>11.2</td>\n",
              "      <td>0.28</td>\n",
              "      <td>0.56</td>\n",
              "      <td>1.9</td>\n",
              "      <td>0.075</td>\n",
              "      <td>17.0</td>\n",
              "      <td>60.0</td>\n",
              "      <td>0.9980</td>\n",
              "      <td>3.16</td>\n",
              "      <td>0.58</td>\n",
              "      <td>9.8</td>\n",
              "      <td>6</td>\n",
              "    </tr>\n",
              "    <tr>\n",
              "      <th>4</th>\n",
              "      <td>5</td>\n",
              "      <td>7.4</td>\n",
              "      <td>0.70</td>\n",
              "      <td>0.00</td>\n",
              "      <td>1.9</td>\n",
              "      <td>0.076</td>\n",
              "      <td>11.0</td>\n",
              "      <td>34.0</td>\n",
              "      <td>0.9978</td>\n",
              "      <td>3.51</td>\n",
              "      <td>0.56</td>\n",
              "      <td>9.4</td>\n",
              "      <td>5</td>\n",
              "    </tr>\n",
              "  </tbody>\n",
              "</table>\n",
              "</div>"
            ],
            "text/plain": [
              "   Unnamed: 0  fixed.acidity  volatile.acidity  ...  sulphates  alcohol  quality\n",
              "0           1            7.4              0.70  ...       0.56      9.4        5\n",
              "1           2            7.8              0.88  ...       0.68      9.8        5\n",
              "2           3            7.8              0.76  ...       0.65      9.8        5\n",
              "3           4           11.2              0.28  ...       0.58      9.8        6\n",
              "4           5            7.4              0.70  ...       0.56      9.4        5\n",
              "\n",
              "[5 rows x 13 columns]"
            ]
          },
          "metadata": {
            "tags": []
          },
          "execution_count": 3
        }
      ]
    },
    {
      "cell_type": "code",
      "metadata": {
        "id": "N4HvUayg0_ET",
        "colab_type": "code",
        "outputId": "aa4fc87e-e229-427a-9bb5-0d83205778ea",
        "colab": {
          "base_uri": "https://localhost:8080/",
          "height": 34
        }
      },
      "source": [
        "wine.shape"
      ],
      "execution_count": 4,
      "outputs": [
        {
          "output_type": "execute_result",
          "data": {
            "text/plain": [
              "(1599, 13)"
            ]
          },
          "metadata": {
            "tags": []
          },
          "execution_count": 4
        }
      ]
    },
    {
      "cell_type": "code",
      "metadata": {
        "id": "mLkNBPCK15Yb",
        "colab_type": "code",
        "outputId": "3696f31c-672c-45d9-9f35-b9b1d6ac97b4",
        "colab": {
          "base_uri": "https://localhost:8080/",
          "height": 319
        }
      },
      "source": [
        "wine.info()"
      ],
      "execution_count": 5,
      "outputs": [
        {
          "output_type": "stream",
          "text": [
            "<class 'pandas.core.frame.DataFrame'>\n",
            "RangeIndex: 1599 entries, 0 to 1598\n",
            "Data columns (total 13 columns):\n",
            "Unnamed: 0              1599 non-null int64\n",
            "fixed.acidity           1599 non-null float64\n",
            "volatile.acidity        1599 non-null float64\n",
            "citric.acid             1599 non-null float64\n",
            "residual.sugar          1599 non-null float64\n",
            "chlorides               1599 non-null float64\n",
            "free.sulfur.dioxide     1599 non-null float64\n",
            "total.sulfur.dioxide    1599 non-null float64\n",
            "density                 1599 non-null float64\n",
            "pH                      1599 non-null float64\n",
            "sulphates               1599 non-null float64\n",
            "alcohol                 1599 non-null float64\n",
            "quality                 1599 non-null int64\n",
            "dtypes: float64(11), int64(2)\n",
            "memory usage: 162.5 KB\n"
          ],
          "name": "stdout"
        }
      ]
    },
    {
      "cell_type": "code",
      "metadata": {
        "id": "ex0Li-4y2A5l",
        "colab_type": "code",
        "colab": {}
      },
      "source": [
        "X=wine.drop('quality',1)\n",
        "y=wine['quality']"
      ],
      "execution_count": 0,
      "outputs": []
    },
    {
      "cell_type": "code",
      "metadata": {
        "id": "QOJaLVeG1Gyr",
        "colab_type": "code",
        "colab": {}
      },
      "source": [
        "from sklearn.preprocessing import StandardScaler\n",
        "scale = StandardScaler()\n"
      ],
      "execution_count": 0,
      "outputs": []
    },
    {
      "cell_type": "code",
      "metadata": {
        "id": "OcAgYvBOt9pH",
        "colab_type": "code",
        "colab": {}
      },
      "source": [
        "df_std = scale.fit_transform(x)"
      ],
      "execution_count": 0,
      "outputs": []
    },
    {
      "cell_type": "code",
      "metadata": {
        "id": "Vly34Psp0NBu",
        "colab_type": "code",
        "outputId": "902fd020-c11b-46cf-8241-6fcda79dc30f",
        "colab": {
          "base_uri": "https://localhost:8080/",
          "height": 235
        }
      },
      "source": [
        "scikit_pca = PCA()\n",
        "pca = PCA(.9)\n",
        "\n",
        "pca.fit_transform(df_std)"
      ],
      "execution_count": 0,
      "outputs": [
        {
          "output_type": "execute_result",
          "data": {
            "text/plain": [
              "array([[-1.10503704,  1.01738783, -2.23928527, ...,  1.55757089,\n",
              "        -0.25757413,  0.03852203],\n",
              "       [-0.31147729,  2.23038887, -1.10113815, ...,  0.64264773,\n",
              "         1.51369661, -0.30310965],\n",
              "       [-0.27670935,  1.30491076, -1.49627925, ...,  0.91764327,\n",
              "         0.93835103,  0.0340857 ],\n",
              "       ...,\n",
              "       [-1.83311006,  0.02614818,  1.422036  , ..., -0.73639299,\n",
              "        -0.75308498, -0.85309862],\n",
              "       [-2.58477688,  0.79211269,  0.95249609, ..., -0.65716789,\n",
              "        -1.00202224, -1.02165416],\n",
              "       [-0.87709224, -0.93222218,  1.89664547, ..., -0.65064108,\n",
              "        -1.23110205,  0.57016129]])"
            ]
          },
          "metadata": {
            "tags": []
          },
          "execution_count": 78
        }
      ]
    },
    {
      "cell_type": "code",
      "metadata": {
        "id": "6ctdBPjI2zwL",
        "colab_type": "code",
        "outputId": "f993cef4-2cd4-44f4-8aac-b18740a0bd77",
        "colab": {
          "base_uri": "https://localhost:8080/",
          "height": 282
        }
      },
      "source": [
        "plt.plot(np.cumsum(pca.explained_variance_ratio_))"
      ],
      "execution_count": 0,
      "outputs": [
        {
          "output_type": "execute_result",
          "data": {
            "text/plain": [
              "[<matplotlib.lines.Line2D at 0x7fe4d2439358>]"
            ]
          },
          "metadata": {
            "tags": []
          },
          "execution_count": 79
        },
        {
          "output_type": "display_data",
          "data": {
            "image/png": "[encoded data removed]",
            "text/plain": [
              "<Figure size 432x288 with 1 Axes>"
            ]
          },
          "metadata": {
            "tags": []
          }
        }
      ]
    },
    {
      "cell_type": "code",
      "metadata": {
        "id": "WtoYZDqV5AOo",
        "colab_type": "code",
        "colab": {}
      },
      "source": [
        "# PCA with 2 components:\n",
        "pca = PCA(n_components=2)\n",
        "X_pca=pca.fit_transform(df_std)"
      ],
      "execution_count": 0,
      "outputs": []
    },
    {
      "cell_type": "code",
      "metadata": {
        "id": "eghvf4HK5NbW",
        "colab_type": "code",
        "outputId": "1c4e816c-f713-4120-bfba-a875c815dc47",
        "colab": {
          "base_uri": "https://localhost:8080/",
          "height": 283
        }
      },
      "source": [
        "# The following will plot your first two components\n",
        "plt.scatter(X_pca[:, 0], X_pca[:, 1],\n",
        "            c=y, edgecolor='none', alpha=0.5,\n",
        "            cmap=plt.cm.get_cmap('Spectral', 10))\n",
        "plt.xlabel('component 1')\n",
        "plt.ylabel('component 2')\n",
        "plt.colorbar();"
      ],
      "execution_count": 0,
      "outputs": [
        {
          "output_type": "display_data",
          "data": {
            "image/png": "[encoded data removed]",
            "text/plain": [
              "<Figure size 432x288 with 2 Axes>"
            ]
          },
          "metadata": {
            "tags": []
          }
        }
      ]
    },
    {
      "cell_type": "markdown",
      "metadata": {
        "id": "MwVALGyZ5rbW",
        "colab_type": "text"
      },
      "source": [
        "**LOGISTIC REGRESSION**"
      ]
    },
    {
      "cell_type": "code",
      "metadata": {
        "id": "nCqE8CaPxg6j",
        "colab_type": "code",
        "colab": {}
      },
      "source": [
        "X=wine.drop('quality',1)\n",
        "y=wine['quality']"
      ],
      "execution_count": 0,
      "outputs": []
    },
    {
      "cell_type": "code",
      "metadata": {
        "id": "p6_r5Lfd4PQ9",
        "colab_type": "code",
        "colab": {}
      },
      "source": [
        "from sklearn.model_selection import train_test_split\n",
        "X_train, X_test, y_train, y_test = train_test_split(X, y, test_size=0.3, random_state=42)"
      ],
      "execution_count": 0,
      "outputs": []
    },
    {
      "cell_type": "code",
      "metadata": {
        "id": "0tvpBUXNZpD1",
        "colab_type": "code",
        "colab": {}
      },
      "source": [
        "scale.fit(X_train)\n",
        "X_train=scale.transform(X_train)\n",
        "X_test=scale.transform(X_test)"
      ],
      "execution_count": 0,
      "outputs": []
    },
    {
      "cell_type": "code",
      "metadata": {
        "id": "53q9oC-gaj9R",
        "colab_type": "code",
        "outputId": "12f41699-dd2d-454e-9cf6-2b97c6dbc1cb",
        "colab": {
          "base_uri": "https://localhost:8080/",
          "height": 101
        }
      },
      "source": [
        "log = LogisticRegression(solver = 'lbfgs')\n",
        "log.fit(X_train,y_train)"
      ],
      "execution_count": 69,
      "outputs": [
        {
          "output_type": "execute_result",
          "data": {
            "text/plain": [
              "LogisticRegression(C=1.0, class_weight=None, dual=False, fit_intercept=True,\n",
              "                   intercept_scaling=1, l1_ratio=None, max_iter=100,\n",
              "                   multi_class='auto', n_jobs=None, penalty='l2',\n",
              "                   random_state=None, solver='lbfgs', tol=0.0001, verbose=0,\n",
              "                   warm_start=False)"
            ]
          },
          "metadata": {
            "tags": []
          },
          "execution_count": 69
        }
      ]
    },
    {
      "cell_type": "code",
      "metadata": {
        "id": "eC8oL5cRcebI",
        "colab_type": "code",
        "colab": {}
      },
      "source": [
        "preds=log.predict(X_test)"
      ],
      "execution_count": 0,
      "outputs": []
    },
    {
      "cell_type": "code",
      "metadata": {
        "id": "5guLNzLpakAz",
        "colab_type": "code",
        "outputId": "8e2f3aaa-925c-4fa2-9cec-5df015361aa2",
        "colab": {
          "base_uri": "https://localhost:8080/",
          "height": 34
        }
      },
      "source": [
        "log.score(X_train,y_train)"
      ],
      "execution_count": 71,
      "outputs": [
        {
          "output_type": "execute_result",
          "data": {
            "text/plain": [
              "0.6300268096514745"
            ]
          },
          "metadata": {
            "tags": []
          },
          "execution_count": 71
        }
      ]
    },
    {
      "cell_type": "code",
      "metadata": {
        "id": "sAPMyUEA3Hs3",
        "colab_type": "code",
        "colab": {
          "base_uri": "https://localhost:8080/",
          "height": 34
        },
        "outputId": "1f62a786-c649-4cfc-c7cf-04c2171f8549"
      },
      "source": [
        " accuracy=metrics.accuracy_score(y_test,preds)\n",
        " accuracy"
      ],
      "execution_count": 72,
      "outputs": [
        {
          "output_type": "execute_result",
          "data": {
            "text/plain": [
              "0.5458333333333333"
            ]
          },
          "metadata": {
            "tags": []
          },
          "execution_count": 72
        }
      ]
    },
    {
      "cell_type": "markdown",
      "metadata": {
        "id": "TB5rKvUGakET",
        "colab_type": "text"
      },
      "source": [
        ""
      ]
    },
    {
      "cell_type": "markdown",
      "metadata": {
        "id": "N_vV4emYakHv",
        "colab_type": "text"
      },
      "source": [
        "**LOGISTIC REGRESSION  WITH PCA**"
      ]
    },
    {
      "cell_type": "markdown",
      "metadata": {
        "id": "u9A1Rbh3yGmO",
        "colab_type": "text"
      },
      "source": [
        "\n",
        "Now let’s train on the data with** reduced variance**.\n",
        "\n",
        " We will use PCA to reduce the no of components.\n",
        "\n",
        "Decide on the variance percentages:\n",
        "\n",
        "Fix the variances for which we would conduct the experiments.\n"
      ]
    },
    {
      "cell_type": "code",
      "metadata": {
        "id": "85VcGMhVyLZQ",
        "colab_type": "code",
        "colab": {}
      },
      "source": [
        "variance_list = [0.95,0.90,0.85,0.80,0.75,0.70,.65,.6,.5,.4]"
      ],
      "execution_count": 0,
      "outputs": []
    },
    {
      "cell_type": "code",
      "metadata": {
        "id": "l7n62Wnyyk-z",
        "colab_type": "code",
        "colab": {
          "base_uri": "https://localhost:8080/",
          "height": 185
        },
        "outputId": "603c8781-3b09-4619-bf52-c533c07bb6e5"
      },
      "source": [
        "for variance in variance_list:\n",
        "   pca = PCA(variance)\n",
        "   pca.fit(X_train)\n",
        "   p_train=pca.transform(X_train)\n",
        "   n_components = pca.n_components_\n",
        "   p_test=pca.transform(X_test)\n",
        "   \n",
        "   #print(n_components)\n",
        "   log = LogisticRegression(solver = 'lbfgs')\n",
        "   log.fit(p_train,y_train)\n",
        "   preds=log.predict(p_test)\n",
        "   score=log.score(p_train,y_train)\n",
        "   #print(score)\n",
        "   accuracy=metrics.accuracy_score(y_test,preds)\n",
        "   #print(accuracy)\n",
        "  \n",
        "   print('variane explained    ', (variance*100),'     number of components   ', n_components, '    score   ',score,'    accuracy   ', accuracy)\n",
        "\n"
      ],
      "execution_count": 111,
      "outputs": [
        {
          "output_type": "stream",
          "text": [
            "variane explained     95.0      number of components    9     score    0.610366398570152     accuracy    0.5375\n",
            "variane explained     90.0      number of components    8     score    0.6193029490616622     accuracy    0.5354166666666667\n",
            "variane explained     85.0      number of components    7     score    0.6085790884718498     accuracy    0.5291666666666667\n",
            "variane explained     80.0      number of components    6     score    0.6085790884718498     accuracy    0.53125\n",
            "variane explained     75.0      number of components    6     score    0.6085790884718498     accuracy    0.53125\n",
            "variane explained     70.0      number of components    5     score    0.5889186773905273     accuracy    0.5375\n",
            "variane explained     65.0      number of components    4     score    0.5987488829311886     accuracy    0.5291666666666667\n",
            "variane explained     60.0      number of components    4     score    0.5987488829311886     accuracy    0.5291666666666667\n",
            "variane explained     50.0      number of components    3     score    0.5969615728328865     accuracy    0.5291666666666667\n",
            "variane explained     40.0      number of components    2     score    0.5326184092940125     accuracy    0.49375\n"
          ],
          "name": "stdout"
        }
      ]
    }
  ]
}