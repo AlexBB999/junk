{
  "nbformat": 4,
  "nbformat_minor": 0,
  "metadata": {
    "colab": {
      "name": "33.3 DL Keras +TF.ipynb",
      "provenance": [],
      "collapsed_sections": [],
      "authorship_tag": "ABX9TyNF3tZEB3fqjq30yExQwr8U",
      "include_colab_link": true
    },
    "kernelspec": {
      "name": "python3",
      "display_name": "Python 3"
    }
  },
  "cells": [
    {
      "cell_type": "markdown",
      "metadata": {
        "id": "view-in-github",
        "colab_type": "text"
      },
      "source": [
        "<a href=\"https://colab.research.google.com/github/AlexBB999/junk/blob/master/33_3_DL_Keras_%2BTF.ipynb\" target=\"_parent\"><img src=\"https://colab.research.google.com/assets/colab-badge.svg\" alt=\"Open In Colab\"/></a>"
      ]
    },
    {
      "cell_type": "code",
      "metadata": {
        "id": "keCN73_WjfeG",
        "colab_type": "code",
        "outputId": "93e26773-dfec-4978-c647-8ebfb2507118",
        "colab": {
          "base_uri": "https://localhost:8080/",
          "height": 574
        }
      },
      "source": [
        "pip install tensorflow==2.0.0-rc1"
      ],
      "execution_count": 0,
      "outputs": [
        {
          "output_type": "stream",
          "text": [
            "Collecting tensorflow==2.0.0-rc1\n",
            "\u001b[?25l  Downloading https://files.pythonhosted.org/packages/40/d0/7359227ccfb6e2ae2a8fe345db1d513f010282022a7a6a899530cc63c41f/tensorflow-2.0.0rc1-cp36-cp36m-manylinux2010_x86_64.whl (86.3MB)\n",
            "\u001b[K     |████████████████████████████████| 86.3MB 57kB/s \n",
            "\u001b[?25hRequirement already satisfied: gast>=0.2.0 in /usr/local/lib/python3.6/dist-packages (from tensorflow==2.0.0-rc1) (0.3.3)\n",
            "Requirement already satisfied: wheel>=0.26 in /usr/local/lib/python3.6/dist-packages (from tensorflow==2.0.0-rc1) (0.34.2)\n",
            "Requirement already satisfied: wrapt>=1.11.1 in /usr/local/lib/python3.6/dist-packages (from tensorflow==2.0.0-rc1) (1.12.1)\n",
            "Requirement already satisfied: google-pasta>=0.1.6 in /usr/local/lib/python3.6/dist-packages (from tensorflow==2.0.0-rc1) (0.2.0)\n",
            "Requirement already satisfied: astor>=0.6.0 in /usr/local/lib/python3.6/dist-packages (from tensorflow==2.0.0-rc1) (0.8.1)\n",
            "Requirement already satisfied: keras-preprocessing>=1.0.5 in /usr/local/lib/python3.6/dist-packages (from tensorflow==2.0.0-rc1) (1.1.0)\n",
            "Requirement already satisfied: absl-py>=0.7.0 in /usr/local/lib/python3.6/dist-packages (from tensorflow==2.0.0-rc1) (0.9.0)\n",
            "Requirement already satisfied: opt-einsum>=2.3.2 in /usr/local/lib/python3.6/dist-packages (from tensorflow==2.0.0-rc1) (3.2.0)\n",
            "Requirement already satisfied: six>=1.10.0 in /usr/local/lib/python3.6/dist-packages (from tensorflow==2.0.0-rc1) (1.12.0)\n",
            "Requirement already satisfied: termcolor>=1.1.0 in /usr/local/lib/python3.6/dist-packages (from tensorflow==2.0.0-rc1) (1.1.0)\n",
            "Collecting tf-estimator-nightly<1.14.0.dev2019080602,>=1.14.0.dev2019080601\n",
            "\u001b[?25l  Downloading https://files.pythonhosted.org/packages/21/28/f2a27a62943d5f041e4a6fd404b2d21cb7c59b2242a4e73b03d9ba166552/tf_estimator_nightly-1.14.0.dev2019080601-py2.py3-none-any.whl (501kB)\n",
            "\u001b[K     |████████████████████████████████| 501kB 49.7MB/s \n",
            "\u001b[?25hRequirement already satisfied: protobuf>=3.6.1 in /usr/local/lib/python3.6/dist-packages (from tensorflow==2.0.0-rc1) (3.10.0)\n",
            "Requirement already satisfied: numpy<2.0,>=1.16.0 in /usr/local/lib/python3.6/dist-packages (from tensorflow==2.0.0-rc1) (1.18.2)\n",
            "Requirement already satisfied: grpcio>=1.8.6 in /usr/local/lib/python3.6/dist-packages (from tensorflow==2.0.0-rc1) (1.28.1)\n",
            "Collecting tb-nightly<1.15.0a20190807,>=1.15.0a20190806\n",
            "\u001b[?25l  Downloading https://files.pythonhosted.org/packages/bc/88/24b5fb7280e74c7cf65bde47c171547fd02afb3840cff41bcbe9270650f5/tb_nightly-1.15.0a20190806-py3-none-any.whl (4.3MB)\n",
            "\u001b[K     |████████████████████████████████| 4.3MB 45.1MB/s \n",
            "\u001b[?25hRequirement already satisfied: keras-applications>=1.0.8 in /usr/local/lib/python3.6/dist-packages (from tensorflow==2.0.0-rc1) (1.0.8)\n",
            "Requirement already satisfied: setuptools in /usr/local/lib/python3.6/dist-packages (from protobuf>=3.6.1->tensorflow==2.0.0-rc1) (46.1.3)\n",
            "Requirement already satisfied: werkzeug>=0.11.15 in /usr/local/lib/python3.6/dist-packages (from tb-nightly<1.15.0a20190807,>=1.15.0a20190806->tensorflow==2.0.0-rc1) (1.0.1)\n",
            "Requirement already satisfied: markdown>=2.6.8 in /usr/local/lib/python3.6/dist-packages (from tb-nightly<1.15.0a20190807,>=1.15.0a20190806->tensorflow==2.0.0-rc1) (3.2.1)\n",
            "Requirement already satisfied: h5py in /usr/local/lib/python3.6/dist-packages (from keras-applications>=1.0.8->tensorflow==2.0.0-rc1) (2.10.0)\n",
            "Installing collected packages: tf-estimator-nightly, tb-nightly, tensorflow\n",
            "  Found existing installation: tensorflow 2.2.0rc3\n",
            "    Uninstalling tensorflow-2.2.0rc3:\n",
            "      Successfully uninstalled tensorflow-2.2.0rc3\n",
            "Successfully installed tb-nightly-1.15.0a20190806 tensorflow-2.0.0rc1 tf-estimator-nightly-1.14.0.dev2019080601\n"
          ],
          "name": "stdout"
        }
      ]
    },
    {
      "cell_type": "code",
      "metadata": {
        "id": "WE7HDjnMj64R",
        "colab_type": "code",
        "colab": {}
      },
      "source": [
        "from tensorflow.keras.models import Sequential"
      ],
      "execution_count": 0,
      "outputs": []
    },
    {
      "cell_type": "code",
      "metadata": {
        "id": "A9sItGRwkBDS",
        "colab_type": "code",
        "colab": {}
      },
      "source": [
        "import warnings\n",
        "warnings.filterwarnings(\"ignore\")\n",
        "\n",
        "from tensorflow.keras.datasets import mnist"
      ],
      "execution_count": 0,
      "outputs": []
    },
    {
      "cell_type": "markdown",
      "metadata": {
        "id": "2l9k4PstkLM4",
        "colab_type": "text"
      },
      "source": [
        "**Load the data and do our preprocessing:**\n",
        "\n",
        "---\n",
        "\n"
      ]
    },
    {
      "cell_type": "code",
      "metadata": {
        "id": "dIv9aOeZkUVO",
        "colab_type": "code",
        "outputId": "79c80180-031c-4b19-d94d-c44eb6867569",
        "colab": {
          "base_uri": "https://localhost:8080/",
          "height": 50
        }
      },
      "source": [
        "(X_train, y_train), (X_test, y_test) = mnist.load_data()\n",
        "\n",
        "input_dim = 784  # 28*28\n",
        "output_dim = nb_classes = 10\n",
        "batch_size = 128\n",
        "nb_epoch = 20\n",
        "\n",
        "X_train = X_train.reshape(60000, input_dim)\n",
        "X_test = X_test.reshape(10000, input_dim)\n",
        "X_train = X_train.astype('float32')\n",
        "X_test = X_test.astype('float32')\n",
        "X_train /= 255\n",
        "X_test /= 255"
      ],
      "execution_count": 0,
      "outputs": [
        {
          "output_type": "stream",
          "text": [
            "Downloading data from https://storage.googleapis.com/tensorflow/tf-keras-datasets/mnist.npz\n",
            "11493376/11490434 [==============================] - 0s 0us/step\n"
          ],
          "name": "stdout"
        }
      ]
    },
    {
      "cell_type": "markdown",
      "metadata": {
        "id": "tkG6I4FNkhy4",
        "colab_type": "text"
      },
      "source": [
        "**Next we one hot code our target variable using to_categorical function of Keras' utils module**"
      ]
    },
    {
      "cell_type": "code",
      "metadata": {
        "id": "KR8WOzB5kmTD",
        "colab_type": "code",
        "colab": {}
      },
      "source": [
        "from tensorflow.keras.utils import to_categorical\n",
        "\n",
        "Y_train = to_categorical(y_train, nb_classes)\n",
        "Y_test = to_categorical(y_test, nb_classes)"
      ],
      "execution_count": 0,
      "outputs": []
    },
    {
      "cell_type": "markdown",
      "metadata": {
        "id": "cVku_43vkqvh",
        "colab_type": "text"
      },
      "source": [
        "**Now, let's check the size of the data**:"
      ]
    },
    {
      "cell_type": "code",
      "metadata": {
        "id": "l6HxTGI6kti8",
        "colab_type": "code",
        "outputId": "6516873b-b9bd-4809-85db-059c5d2f45a4",
        "colab": {
          "base_uri": "https://localhost:8080/",
          "height": 34
        }
      },
      "source": [
        "X_train[0].shape"
      ],
      "execution_count": 0,
      "outputs": [
        {
          "output_type": "execute_result",
          "data": {
            "text/plain": [
              "(784,)"
            ]
          },
          "metadata": {
            "tags": []
          },
          "execution_count": 7
        }
      ]
    },
    {
      "cell_type": "code",
      "metadata": {
        "id": "3m1FAaxblC-n",
        "colab_type": "code",
        "outputId": "028b3ce7-573b-4605-8dc1-067e32305ccd",
        "colab": {
          "base_uri": "https://localhost:8080/",
          "height": 34
        }
      },
      "source": [
        "X_train.shape"
      ],
      "execution_count": 0,
      "outputs": [
        {
          "output_type": "execute_result",
          "data": {
            "text/plain": [
              "(60000, 784)"
            ]
          },
          "metadata": {
            "tags": []
          },
          "execution_count": 11
        }
      ]
    },
    {
      "cell_type": "markdown",
      "metadata": {
        "id": "CD_36_uQk6i7",
        "colab_type": "text"
      },
      "source": [
        "As you see, the size of each image is 784. In fact, all images in MNIST are 28 by 28 pixels and 784 is just the result of the multiplication of 28 by 28.\n",
        "\n",
        "**So, the data we have is a flattened version of the images where each row in the 28x28 matrix is concatenated side by side**.\n",
        "\n",
        "Let's plot some images and see what they look like:"
      ]
    },
    {
      "cell_type": "code",
      "metadata": {
        "id": "MgdTU8yDk8vB",
        "colab_type": "code",
        "outputId": "0f73d411-b8b1-4fe7-d2a7-f91e0dbdfc12",
        "colab": {
          "base_uri": "https://localhost:8080/",
          "height": 307
        }
      },
      "source": [
        "import matplotlib.pyplot as plt\n",
        "\n",
        "plt.figure(figsize=(20,5))\n",
        "\n",
        "plt.subplot(141)\n",
        "plt.imshow(X_train[123].reshape(28,28), cmap=\"gray\")\n",
        "plt.title(\"Label of the image: {}\".format(y_train[123]))\n",
        "\n",
        "plt.subplot(142)\n",
        "plt.imshow(X_train[124].reshape(28,28), cmap=\"gray\")\n",
        "plt.title(\"Label of the image: {}\".format(y_train[124]))\n",
        "\n",
        "plt.subplot(143)\n",
        "plt.imshow(X_train[125].reshape(28,28), cmap=\"gray\")\n",
        "plt.title(\"Label of the image: {}\".format(y_train[125]))\n",
        "\n",
        "plt.subplot(144)\n",
        "plt.imshow(X_train[126].reshape(28,28), cmap=\"gray\")\n",
        "plt.title(\"Label of the image: {}\".format(y_train[126]))\n",
        "\n",
        "plt.show()"
      ],
      "execution_count": 0,
      "outputs": [
        {
          "output_type": "display_data",
          "data": {
            "image/png": "[encoded data removed]",
            "text/plain": [
              "<Figure size 1440x360 with 4 Axes>"
            ]
          },
          "metadata": {
            "tags": [],
            "needs_background": "light"
          }
        }
      ]
    },
    {
      "cell_type": "markdown",
      "metadata": {
        "id": "gLOgopienAJf",
        "colab_type": "text"
      },
      "source": [
        "We're now ready to jump into building our ANN model.\n",
        "\n",
        "##**Defining the model**\n",
        "\n",
        "As we said before, we'll build our model using Sequential class of Keras' models module. Once we create our model as:\n",
        "\n",
        "**model = Sequential()**\n",
        "\n",
        "We'll start to add layers to our model object one by one (**that is, sequentially**). \n",
        "\n",
        "**The layer type we'll use is called the dense layer** which we'll import from the layers module of the Keras."
      ]
    },
    {
      "cell_type": "code",
      "metadata": {
        "id": "eUjGgHJQnLDc",
        "colab_type": "code",
        "colab": {}
      },
      "source": [
        "from tensorflow.keras.models import Sequential \n",
        "from tensorflow.keras.layers import Dense\n",
        "\n",
        "model = Sequential()\n",
        "# our first dense layer\n",
        "model.add(Dense(1028, input_shape=(784,), activation=\"relu\"))\n",
        "# our second dense layer\n",
        "model.add(Dense(1028, activation=\"relu\"))\n",
        "# last layer is the output layer.\n",
        "model.add(Dense(10, activation=\"softmax\"))"
      ],
      "execution_count": 0,
      "outputs": []
    },
    {
      "cell_type": "markdown",
      "metadata": {
        "id": "gsY9DV_HnbE6",
        "colab_type": "text"
      },
      "source": [
        "**Note that, we set the neuron size of the output layer to 10**. \n",
        "\n",
        "**This is because in MNIST there are 10 classes**. \n",
        "\n",
        "**We also set the activation function of the output layer to softmax**\n",
        "\n",
        " We'll discuss why we use softmax as the activation function in the output layer.\n",
        " \n",
        "For now, we say that when we give an image as input to the model, our model will produce 10 probabilities for each of the 10 classes in the MNIST data.\n",
        " \n",
        "**The largest probability class will be the prediction of the model**.\n",
        "\n",
        "We can have a look at the structure of our ANN model using the summary() method of our model object:"
      ]
    },
    {
      "cell_type": "code",
      "metadata": {
        "id": "brFC20CLn7I6",
        "colab_type": "code",
        "outputId": "c1de2e39-798e-4d6c-96b6-0f5ca3132cfa",
        "colab": {
          "base_uri": "https://localhost:8080/",
          "height": 252
        }
      },
      "source": [
        "model.summary()"
      ],
      "execution_count": 0,
      "outputs": [
        {
          "output_type": "stream",
          "text": [
            "Model: \"sequential\"\n",
            "_________________________________________________________________\n",
            "Layer (type)                 Output Shape              Param #   \n",
            "=================================================================\n",
            "dense (Dense)                (None, 1028)              806980    \n",
            "_________________________________________________________________\n",
            "dense_1 (Dense)              (None, 1028)              1057812   \n",
            "_________________________________________________________________\n",
            "dense_2 (Dense)              (None, 10)                10290     \n",
            "=================================================================\n",
            "Total params: 1,875,082\n",
            "Trainable params: 1,875,082\n",
            "Non-trainable params: 0\n",
            "_________________________________________________________________\n"
          ],
          "name": "stdout"
        }
      ]
    },
    {
      "cell_type": "markdown",
      "metadata": {
        "id": "G_l35bKgoEmO",
        "colab_type": "text"
      },
      "source": [
        "**As you see, we have three dense layers of which the last one is the output layer**.\n",
        "\n",
        " In total, we have 1,875,082 parameters to be estimated in our mode"
      ]
    },
    {
      "cell_type": "markdown",
      "metadata": {
        "id": "1QDEv_RmoLsK",
        "colab_type": "text"
      },
      "source": [
        "**Compiling the model**\n",
        "\n",
        "Now we can compile our model.\n",
        "\n",
        "**When compiling the model, we define three things**:\n",
        "\n",
        "**The optimizer** that will be used in the training. If you don't know about the optimizers in deep learning, do not worry. We just use it in this checkpoint. But, we'll talk about them in the following checkpoints.\n",
        "\n",
        "**The loss function**. It's necessary to specify a loss function for a model. Training algorithms use this loss function and try to minimize it during the training. This is also something we'll cover in the next checkpoint.\n",
        "\n",
        "**The metri**c to measure the training performance of our model. In this example, we use the accuracy metric, since our task is a classification task and our dataset is a balanced one"
      ]
    },
    {
      "cell_type": "code",
      "metadata": {
        "id": "FrijdQExoenQ",
        "colab_type": "code",
        "colab": {}
      },
      "source": [
        "model.compile(optimizer='sgd', loss='categorical_crossentropy',\n",
        "              metrics=['accuracy'])"
      ],
      "execution_count": 0,
      "outputs": []
    },
    {
      "cell_type": "markdown",
      "metadata": {
        "id": "gkELrdGPoiao",
        "colab_type": "text"
      },
      "source": [
        "##**Training the model**\n",
        "\n",
        "We're now ready to train our model.\n",
        "\n",
        " Training a model in Keras is done by calling the **fit() method** of the model object.\n",
        " \n",
        "  In the following, we train our model:\n",
        "\n",
        "**Using 128 as the batch size**. This is something we'll discuss in a later checkpoint.\n",
        "\n",
        "\n",
        "**Using 20 as the number of epochs**.\n",
        "\n",
        " In deep learning jargon, epoch means full use of all of the examples in the training data during the training the model. So, we'll train our model during 20 epochs, that's we'll use all of the observations in our training data 20 times when training our model."
      ]
    },
    {
      "cell_type": "code",
      "metadata": {
        "id": "fYXwEItjo0o-",
        "colab_type": "code",
        "outputId": "afbfe647-4d53-4972-96f6-c8e090fd1b59",
        "colab": {
          "base_uri": "https://localhost:8080/",
          "height": 776
        }
      },
      "source": [
        "# setting verbose=1 prints out some results after each epoch\n",
        "model.fit(X_train, Y_train, batch_size=batch_size, epochs=20, verbose=1)"
      ],
      "execution_count": 0,
      "outputs": [
        {
          "output_type": "stream",
          "text": [
            "Train on 60000 samples\n",
            "Epoch 1/20\n",
            "WARNING:tensorflow:Entity <function Function._initialize_uninitialized_variables.<locals>.initialize_variables at 0x7fc63eb7e8c8> could not be transformed and will be executed as-is. Please report this to the AutoGraph team. When filing the bug, set the verbosity to 10 (on Linux, `export AUTOGRAPH_VERBOSITY=10`) and attach the full output. Cause: module 'gast' has no attribute 'Num'\n",
            "WARNING: Entity <function Function._initialize_uninitialized_variables.<locals>.initialize_variables at 0x7fc63eb7e8c8> could not be transformed and will be executed as-is. Please report this to the AutoGraph team. When filing the bug, set the verbosity to 10 (on Linux, `export AUTOGRAPH_VERBOSITY=10`) and attach the full output. Cause: module 'gast' has no attribute 'Num'\n",
            "60000/60000 [==============================] - 17s 287us/sample - loss: 1.0399 - accuracy: 0.7833\n",
            "Epoch 2/20\n",
            "60000/60000 [==============================] - 16s 275us/sample - loss: 0.4300 - accuracy: 0.8888\n",
            "Epoch 3/20\n",
            "60000/60000 [==============================] - 17s 279us/sample - loss: 0.3457 - accuracy: 0.9055\n",
            "Epoch 4/20\n",
            "60000/60000 [==============================] - 16s 275us/sample - loss: 0.3073 - accuracy: 0.9145\n",
            "Epoch 5/20\n",
            "60000/60000 [==============================] - 16s 272us/sample - loss: 0.2822 - accuracy: 0.9206\n",
            "Epoch 6/20\n",
            "60000/60000 [==============================] - 16s 273us/sample - loss: 0.2630 - accuracy: 0.9263\n",
            "Epoch 7/20\n",
            "60000/60000 [==============================] - 16s 274us/sample - loss: 0.2473 - accuracy: 0.9305\n",
            "Epoch 8/20\n",
            "60000/60000 [==============================] - 17s 277us/sample - loss: 0.2339 - accuracy: 0.9348\n",
            "Epoch 9/20\n",
            "60000/60000 [==============================] - 16s 274us/sample - loss: 0.2220 - accuracy: 0.9382\n",
            "Epoch 10/20\n",
            "60000/60000 [==============================] - 16s 274us/sample - loss: 0.2116 - accuracy: 0.9409\n",
            "Epoch 11/20\n",
            "60000/60000 [==============================] - 16s 273us/sample - loss: 0.2021 - accuracy: 0.9437\n",
            "Epoch 12/20\n",
            "60000/60000 [==============================] - 16s 273us/sample - loss: 0.1934 - accuracy: 0.9461\n",
            "Epoch 13/20\n",
            "60000/60000 [==============================] - 16s 273us/sample - loss: 0.1852 - accuracy: 0.9480\n",
            "Epoch 14/20\n",
            "60000/60000 [==============================] - 16s 273us/sample - loss: 0.1779 - accuracy: 0.9502\n",
            "Epoch 15/20\n",
            "60000/60000 [==============================] - 16s 273us/sample - loss: 0.1709 - accuracy: 0.9524\n",
            "Epoch 16/20\n",
            "60000/60000 [==============================] - 16s 274us/sample - loss: 0.1642 - accuracy: 0.9539\n",
            "Epoch 17/20\n",
            "60000/60000 [==============================] - 16s 275us/sample - loss: 0.1584 - accuracy: 0.9560\n",
            "Epoch 18/20\n",
            "60000/60000 [==============================] - 16s 274us/sample - loss: 0.1528 - accuracy: 0.9578\n",
            "Epoch 19/20\n",
            "60000/60000 [==============================] - 16s 275us/sample - loss: 0.1474 - accuracy: 0.9589\n",
            "Epoch 20/20\n",
            "60000/60000 [==============================] - 17s 276us/sample - loss: 0.1423 - accuracy: 0.9604\n"
          ],
          "name": "stdout"
        },
        {
          "output_type": "execute_result",
          "data": {
            "text/plain": [
              "<tensorflow.python.keras.callbacks.History at 0x7fc643c9fc88>"
            ]
          },
          "metadata": {
            "tags": []
          },
          "execution_count": 32
        }
      ]
    },
    {
      "cell_type": "markdown",
      "metadata": {
        "id": "cGe0eIk3qWXl",
        "colab_type": "text"
      },
      "source": [
        "##**Evaluating the model**\n",
        "\n",
        "The last step is to evaluate our model using the test set we set apart before.\n",
        " For this purpose, we use the **evaluate() method** of the model object."
      ]
    },
    {
      "cell_type": "code",
      "metadata": {
        "id": "osvXyvlxqgou",
        "colab_type": "code",
        "outputId": "fd7d5c2b-c40d-4193-ac6f-26e0a4394b43",
        "colab": {
          "base_uri": "https://localhost:8080/",
          "height": 50
        }
      },
      "source": [
        "score = model.evaluate(X_test, Y_test, verbose=0)\n",
        "print('Test score:', score[0])\n",
        "print('Test accuracy:', score[1])"
      ],
      "execution_count": 0,
      "outputs": [
        {
          "output_type": "stream",
          "text": [
            "Test score: 0.1453822269245982\n",
            "Test accuracy: 0.9566\n"
          ],
          "name": "stdout"
        }
      ]
    },
    {
      "cell_type": "markdown",
      "metadata": {
        "id": "_qNtGcKvql3w",
        "colab_type": "text"
      },
      "source": [
        "\n",
        "The test set accuracy of our model is almost 97%.  --**NO**\n",
        "\n",
        "Good job. Now it's your turn!"
      ]
    },
    {
      "cell_type": "markdown",
      "metadata": {
        "id": "FmkH8rK-q96_",
        "colab_type": "text"
      },
      "source": [
        "##**Assignments**\n",
        "\n",
        "To complete this assignment, create a Jupyter notebook containing your solutions to the following tasks:\n",
        "\n",
        "1 - In this task, you'll build an ANN and train and test it using the MNIST data.\n",
        "\n",
        " **This ANN should consist of two hidden and one output layer**.\n",
        " \n",
        "  **All hidden layers should be dense**.\n",
        " \n",
        "**The neuron sizes of the first layer and the second layer should be 32 and 16 respectivel**y.\n",
        "  \n",
        "   Train this model 20 epochs and compare your train and test set performance with the example in the checkpoint. \n",
        "   \n",
        "   Is there any difference? If so, why?\n",
        "\n",
        "2 - **You'll also build an ANN in this task**.\n",
        "\n",
        "**This time, this ANN should have 5 hidden layers and 1 output layer**.\n",
        "\n",
        "All the layers should be dense. \n",
        "\n",
        "**The neuron numbers for the hidden layers should be 1024, 512, 256, 128 and 64.**\n",
        "\n",
        "Train this model 20 epochs and test it using the same data from the previous task and compare your results. \n",
        "\n",
        "Is there any difference? If so, why?"
      ]
    },
    {
      "cell_type": "code",
      "metadata": {
        "id": "03GJ6vSjsBS2",
        "colab_type": "code",
        "colab": {}
      },
      "source": [
        "from tensorflow.keras.models import Sequential \n",
        "from tensorflow.keras.layers import Dense\n",
        "\n",
        "model = Sequential()\n",
        "# our first dense layer,\n",
        "model.add(Dense(1028, input_shape=(784,), activation=\"relu\"))\n",
        "# our second dense layer\n",
        "model.add(Dense(1028,input_shape=(32,), activation=\"relu\"))\n",
        "#another layer\n",
        "model.add(Dense(1028,input_shape=(16,), activation=\"relu\"))\n",
        "# last layer is the output layer.\n",
        "model.add(Dense(10, activation=\"softmax\"))"
      ],
      "execution_count": 0,
      "outputs": []
    },
    {
      "cell_type": "code",
      "metadata": {
        "id": "ly1tK6eKtLew",
        "colab_type": "code",
        "outputId": "8c8836a5-f27b-47eb-943c-cc180bb5b402",
        "colab": {
          "base_uri": "https://localhost:8080/",
          "height": 286
        }
      },
      "source": [
        "model.summary()"
      ],
      "execution_count": 0,
      "outputs": [
        {
          "output_type": "stream",
          "text": [
            "Model: \"sequential_2\"\n",
            "_________________________________________________________________\n",
            "Layer (type)                 Output Shape              Param #   \n",
            "=================================================================\n",
            "dense_6 (Dense)              (None, 1028)              806980    \n",
            "_________________________________________________________________\n",
            "dense_7 (Dense)              (None, 1028)              1057812   \n",
            "_________________________________________________________________\n",
            "dense_8 (Dense)              (None, 1028)              1057812   \n",
            "_________________________________________________________________\n",
            "dense_9 (Dense)              (None, 10)                10290     \n",
            "=================================================================\n",
            "Total params: 2,932,894\n",
            "Trainable params: 2,932,894\n",
            "Non-trainable params: 0\n",
            "_________________________________________________________________\n"
          ],
          "name": "stdout"
        }
      ]
    },
    {
      "cell_type": "code",
      "metadata": {
        "id": "RKL1obyhtaeW",
        "colab_type": "code",
        "colab": {}
      },
      "source": [
        "model.compile(optimizer='sgd', loss='categorical_crossentropy',\n",
        "              metrics=['accuracy'])"
      ],
      "execution_count": 0,
      "outputs": []
    },
    {
      "cell_type": "code",
      "metadata": {
        "id": "Xr6LQo9jtUNU",
        "colab_type": "code",
        "outputId": "727906ba-b904-41c4-b75b-8e5ce5371a2c",
        "colab": {
          "base_uri": "https://localhost:8080/",
          "height": 776
        }
      },
      "source": [
        "# setting verbose=1 prints out some results after each epoch\n",
        "model.fit(X_train, Y_train, batch_size=batch_size, epochs=20, verbose=1)"
      ],
      "execution_count": 0,
      "outputs": [
        {
          "output_type": "stream",
          "text": [
            "Train on 60000 samples\n",
            "Epoch 1/20\n",
            "WARNING:tensorflow:Entity <function Function._initialize_uninitialized_variables.<locals>.initialize_variables at 0x7fc63b3a28c8> could not be transformed and will be executed as-is. Please report this to the AutoGraph team. When filing the bug, set the verbosity to 10 (on Linux, `export AUTOGRAPH_VERBOSITY=10`) and attach the full output. Cause: module 'gast' has no attribute 'Num'\n",
            "WARNING: Entity <function Function._initialize_uninitialized_variables.<locals>.initialize_variables at 0x7fc63b3a28c8> could not be transformed and will be executed as-is. Please report this to the AutoGraph team. When filing the bug, set the verbosity to 10 (on Linux, `export AUTOGRAPH_VERBOSITY=10`) and attach the full output. Cause: module 'gast' has no attribute 'Num'\n",
            "60000/60000 [==============================] - 28s 472us/sample - loss: 1.0855 - accuracy: 0.7811\n",
            "Epoch 2/20\n",
            "60000/60000 [==============================] - 28s 460us/sample - loss: 0.3914 - accuracy: 0.8937\n",
            "Epoch 3/20\n",
            "60000/60000 [==============================] - 28s 460us/sample - loss: 0.3153 - accuracy: 0.9107\n",
            "Epoch 4/20\n",
            "60000/60000 [==============================] - 28s 459us/sample - loss: 0.2784 - accuracy: 0.9203\n",
            "Epoch 5/20\n",
            "60000/60000 [==============================] - 27s 454us/sample - loss: 0.2526 - accuracy: 0.9277\n",
            "Epoch 6/20\n",
            "60000/60000 [==============================] - 27s 449us/sample - loss: 0.2320 - accuracy: 0.9330\n",
            "Epoch 7/20\n",
            "60000/60000 [==============================] - 27s 451us/sample - loss: 0.2151 - accuracy: 0.9381\n",
            "Epoch 8/20\n",
            "60000/60000 [==============================] - 30s 502us/sample - loss: 0.2002 - accuracy: 0.9428\n",
            "Epoch 9/20\n",
            "60000/60000 [==============================] - 26s 436us/sample - loss: 0.1876 - accuracy: 0.9467\n",
            "Epoch 10/20\n",
            "60000/60000 [==============================] - 26s 441us/sample - loss: 0.1759 - accuracy: 0.9496\n",
            "Epoch 11/20\n",
            "60000/60000 [==============================] - 26s 436us/sample - loss: 0.1650 - accuracy: 0.9533\n",
            "Epoch 12/20\n",
            "60000/60000 [==============================] - 26s 436us/sample - loss: 0.1560 - accuracy: 0.9558\n",
            "Epoch 13/20\n",
            "60000/60000 [==============================] - 26s 440us/sample - loss: 0.1474 - accuracy: 0.9583\n",
            "Epoch 14/20\n",
            "60000/60000 [==============================] - 26s 439us/sample - loss: 0.1398 - accuracy: 0.9609\n",
            "Epoch 15/20\n",
            "60000/60000 [==============================] - 26s 440us/sample - loss: 0.1329 - accuracy: 0.9624\n",
            "Epoch 16/20\n",
            "60000/60000 [==============================] - 26s 438us/sample - loss: 0.1262 - accuracy: 0.9648\n",
            "Epoch 17/20\n",
            "60000/60000 [==============================] - 26s 437us/sample - loss: 0.1201 - accuracy: 0.9665\n",
            "Epoch 18/20\n",
            "60000/60000 [==============================] - 26s 438us/sample - loss: 0.1145 - accuracy: 0.9683\n",
            "Epoch 19/20\n",
            "60000/60000 [==============================] - 26s 438us/sample - loss: 0.1094 - accuracy: 0.9696\n",
            "Epoch 20/20\n",
            "60000/60000 [==============================] - 27s 444us/sample - loss: 0.1045 - accuracy: 0.9706\n"
          ],
          "name": "stdout"
        },
        {
          "output_type": "execute_result",
          "data": {
            "text/plain": [
              "<tensorflow.python.keras.callbacks.History at 0x7fc63b2af048>"
            ]
          },
          "metadata": {
            "tags": []
          },
          "execution_count": 43
        }
      ]
    },
    {
      "cell_type": "code",
      "metadata": {
        "id": "p8Pyqmz1wP6V",
        "colab_type": "code",
        "outputId": "7fd08c09-6deb-4677-e8fc-119ac343cf66",
        "colab": {
          "base_uri": "https://localhost:8080/",
          "height": 50
        }
      },
      "source": [
        "score = model.evaluate(X_test, Y_test, verbose=0)\n",
        "print('Test score:', score[0])\n",
        "print('Test accuracy:', score[1])"
      ],
      "execution_count": 0,
      "outputs": [
        {
          "output_type": "stream",
          "text": [
            "Test score: 0.11610818285010754\n",
            "Test accuracy: 0.9659\n"
          ],
          "name": "stdout"
        }
      ]
    },
    {
      "cell_type": "markdown",
      "metadata": {
        "id": "dNeCMnejwt4N",
        "colab_type": "text"
      },
      "source": [
        "**PART 2**"
      ]
    },
    {
      "cell_type": "code",
      "metadata": {
        "id": "oe8L5cznwxxn",
        "colab_type": "code",
        "colab": {}
      },
      "source": [
        "\n",
        "model = Sequential()\n",
        "# our first dense layer,\n",
        "model.add(Dense(1028, input_shape=(784,), activation=\"relu\"))\n",
        "#HIDDEN LAYER\n",
        "model.add(Dense(1028,input_shape=(512,), activation=\"relu\"))\n",
        "#HIDDEN LAYER\n",
        "model.add(Dense(1028,input_shape=(256,), activation=\"relu\"))\n",
        "#HIDDEN LAYER\n",
        "model.add(Dense(1028,input_shape=(128,), activation=\"relu\"))\n",
        "#HIDDEN LAYER\n",
        "model.add(Dense(1028,input_shape=(64,), activation=\"relu\"))\n",
        "# last layer is the output layer.\n",
        "model.add(Dense(10, activation=\"softmax\"))"
      ],
      "execution_count": 0,
      "outputs": []
    },
    {
      "cell_type": "code",
      "metadata": {
        "id": "V2VUYEa4xo-Z",
        "colab_type": "code",
        "outputId": "1f199237-684f-4d86-93b2-e949a5d95631",
        "colab": {
          "base_uri": "https://localhost:8080/",
          "height": 353
        }
      },
      "source": [
        "model.summary()"
      ],
      "execution_count": 0,
      "outputs": [
        {
          "output_type": "stream",
          "text": [
            "Model: \"sequential_3\"\n",
            "_________________________________________________________________\n",
            "Layer (type)                 Output Shape              Param #   \n",
            "=================================================================\n",
            "dense_10 (Dense)             (None, 1028)              806980    \n",
            "_________________________________________________________________\n",
            "dense_11 (Dense)             (None, 1028)              1057812   \n",
            "_________________________________________________________________\n",
            "dense_12 (Dense)             (None, 1028)              1057812   \n",
            "_________________________________________________________________\n",
            "dense_13 (Dense)             (None, 1028)              1057812   \n",
            "_________________________________________________________________\n",
            "dense_14 (Dense)             (None, 1028)              1057812   \n",
            "_________________________________________________________________\n",
            "dense_15 (Dense)             (None, 10)                10290     \n",
            "=================================================================\n",
            "Total params: 5,048,518\n",
            "Trainable params: 5,048,518\n",
            "Non-trainable params: 0\n",
            "_________________________________________________________________\n"
          ],
          "name": "stdout"
        }
      ]
    },
    {
      "cell_type": "code",
      "metadata": {
        "id": "S406Un8lxzQY",
        "colab_type": "code",
        "colab": {}
      },
      "source": [
        "model.compile(optimizer='sgd', loss='categorical_crossentropy',\n",
        "              metrics=['accuracy'])"
      ],
      "execution_count": 0,
      "outputs": []
    },
    {
      "cell_type": "code",
      "metadata": {
        "id": "KQ7LD7Kdx5vq",
        "colab_type": "code",
        "outputId": "ea30f91c-90c5-4d8e-fb23-dd33afa7e4c7",
        "colab": {
          "base_uri": "https://localhost:8080/",
          "height": 776
        }
      },
      "source": [
        "# setting verbose=1 prints out some results after each epoch\n",
        "model.fit(X_train, Y_train, batch_size=batch_size, epochs=20, verbose=1)"
      ],
      "execution_count": 0,
      "outputs": [
        {
          "output_type": "stream",
          "text": [
            "Train on 60000 samples\n",
            "Epoch 1/20\n",
            "WARNING:tensorflow:Entity <function Function._initialize_uninitialized_variables.<locals>.initialize_variables at 0x7fc6441bf620> could not be transformed and will be executed as-is. Please report this to the AutoGraph team. When filing the bug, set the verbosity to 10 (on Linux, `export AUTOGRAPH_VERBOSITY=10`) and attach the full output. Cause: module 'gast' has no attribute 'Num'\n",
            "WARNING: Entity <function Function._initialize_uninitialized_variables.<locals>.initialize_variables at 0x7fc6441bf620> could not be transformed and will be executed as-is. Please report this to the AutoGraph team. When filing the bug, set the verbosity to 10 (on Linux, `export AUTOGRAPH_VERBOSITY=10`) and attach the full output. Cause: module 'gast' has no attribute 'Num'\n",
            "60000/60000 [==============================] - 45s 755us/sample - loss: 1.3328 - accuracy: 0.7025\n",
            "Epoch 2/20\n",
            "60000/60000 [==============================] - 45s 758us/sample - loss: 0.3815 - accuracy: 0.8925\n",
            "Epoch 3/20\n",
            "60000/60000 [==============================] - 46s 759us/sample - loss: 0.2902 - accuracy: 0.9166\n",
            "Epoch 4/20\n",
            "60000/60000 [==============================] - 46s 762us/sample - loss: 0.2456 - accuracy: 0.9288\n",
            "Epoch 5/20\n",
            "60000/60000 [==============================] - 46s 759us/sample - loss: 0.2152 - accuracy: 0.9382\n",
            "Epoch 6/20\n",
            "60000/60000 [==============================] - 45s 758us/sample - loss: 0.1911 - accuracy: 0.9448\n",
            "Epoch 7/20\n",
            "60000/60000 [==============================] - 45s 758us/sample - loss: 0.1722 - accuracy: 0.9506\n",
            "Epoch 8/20\n",
            "60000/60000 [==============================] - 45s 758us/sample - loss: 0.1551 - accuracy: 0.9561\n",
            "Epoch 9/20\n",
            "60000/60000 [==============================] - 48s 796us/sample - loss: 0.1415 - accuracy: 0.9591\n",
            "Epoch 10/20\n",
            "60000/60000 [==============================] - 46s 766us/sample - loss: 0.1291 - accuracy: 0.9629\n",
            "Epoch 11/20\n",
            "60000/60000 [==============================] - 46s 763us/sample - loss: 0.1191 - accuracy: 0.9653\n",
            "Epoch 12/20\n",
            "60000/60000 [==============================] - 46s 760us/sample - loss: 0.1100 - accuracy: 0.9683\n",
            "Epoch 13/20\n",
            "60000/60000 [==============================] - 46s 761us/sample - loss: 0.1014 - accuracy: 0.9710\n",
            "Epoch 14/20\n",
            "60000/60000 [==============================] - 46s 762us/sample - loss: 0.0937 - accuracy: 0.9729\n",
            "Epoch 15/20\n",
            "60000/60000 [==============================] - 46s 760us/sample - loss: 0.0873 - accuracy: 0.9746\n",
            "Epoch 16/20\n",
            "60000/60000 [==============================] - 46s 762us/sample - loss: 0.0814 - accuracy: 0.9768\n",
            "Epoch 17/20\n",
            "60000/60000 [==============================] - 46s 763us/sample - loss: 0.0756 - accuracy: 0.9788\n",
            "Epoch 18/20\n",
            "60000/60000 [==============================] - 46s 760us/sample - loss: 0.0701 - accuracy: 0.9801\n",
            "Epoch 19/20\n",
            "60000/60000 [==============================] - 46s 760us/sample - loss: 0.0667 - accuracy: 0.9810\n",
            "Epoch 20/20\n",
            "60000/60000 [==============================] - 46s 767us/sample - loss: 0.0617 - accuracy: 0.9824\n"
          ],
          "name": "stdout"
        },
        {
          "output_type": "execute_result",
          "data": {
            "text/plain": [
              "<tensorflow.python.keras.callbacks.History at 0x7fc639d5cb38>"
            ]
          },
          "metadata": {
            "tags": []
          },
          "execution_count": 48
        }
      ]
    },
    {
      "cell_type": "code",
      "metadata": {
        "id": "gndQpDp02ECQ",
        "colab_type": "code",
        "outputId": "5422fc22-644e-41f8-de6e-343a11225d73",
        "colab": {
          "base_uri": "https://localhost:8080/",
          "height": 50
        }
      },
      "source": [
        "score = model.evaluate(X_test, Y_test, verbose=0)\n",
        "print('Test score:', score[0])\n",
        "print('Test accuracy:', score[1])"
      ],
      "execution_count": 0,
      "outputs": [
        {
          "output_type": "stream",
          "text": [
            "Test score: 0.08714763048002497\n",
            "Test accuracy: 0.9722\n"
          ],
          "name": "stdout"
        }
      ]
    }
  ]
}