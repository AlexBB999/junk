{
  "nbformat": 4,
  "nbformat_minor": 0,
  "metadata": {
    "colab": {
      "name": "NYC-Health3.ipynb",
      "provenance": [],
      "collapsed_sections": [],
      "authorship_tag": "ABX9TyPqnm3lLqtArWIpRwnb7N/v",
      "include_colab_link": true
    },
    "kernelspec": {
      "name": "python3",
      "display_name": "Python 3"
    }
  },
  "cells": [
    {
      "cell_type": "markdown",
      "metadata": {
        "id": "view-in-github",
        "colab_type": "text"
      },
      "source": [
        "<a href=\"https://colab.research.google.com/github/AlexBB999/junk/blob/master/NYC_Health3.ipynb\" target=\"_parent\"><img src=\"https://colab.research.google.com/assets/colab-badge.svg\" alt=\"Open In Colab\"/></a>"
      ]
    },
    {
      "cell_type": "code",
      "metadata": {
        "id": "UAlHfeEq--FD",
        "colab_type": "code",
        "colab": {
          "base_uri": "https://localhost:8080/",
          "height": 151
        },
        "outputId": "92fe3fb7-6bcf-4c80-e692-d6e8b53f90ff"
      },
      "source": [
        "pip install kmodes"
      ],
      "execution_count": 1,
      "outputs": [
        {
          "output_type": "stream",
          "text": [
            "Collecting kmodes\n",
            "  Downloading https://files.pythonhosted.org/packages/b2/55/d8ec1ae1f7e1e202a8a4184c6852a3ee993b202b0459672c699d0ac18fc8/kmodes-0.10.2-py2.py3-none-any.whl\n",
            "Requirement already satisfied: joblib>=0.11 in /usr/local/lib/python3.6/dist-packages (from kmodes) (0.14.1)\n",
            "Requirement already satisfied: numpy>=1.10.4 in /usr/local/lib/python3.6/dist-packages (from kmodes) (1.18.2)\n",
            "Requirement already satisfied: scipy>=0.13.3 in /usr/local/lib/python3.6/dist-packages (from kmodes) (1.4.1)\n",
            "Requirement already satisfied: scikit-learn>=0.19.0 in /usr/local/lib/python3.6/dist-packages (from kmodes) (0.22.2.post1)\n",
            "Installing collected packages: kmodes\n",
            "Successfully installed kmodes-0.10.2\n"
          ],
          "name": "stdout"
        }
      ]
    },
    {
      "cell_type": "code",
      "metadata": {
        "id": "nkoshear_IAm",
        "colab_type": "code",
        "colab": {
          "base_uri": "https://localhost:8080/",
          "height": 101
        },
        "outputId": "c26bbe4b-0be5-4521-821a-d85ffe762efa"
      },
      "source": [
        "pip install --upgrade kmodes"
      ],
      "execution_count": 2,
      "outputs": [
        {
          "output_type": "stream",
          "text": [
            "Requirement already up-to-date: kmodes in /usr/local/lib/python3.6/dist-packages (0.10.2)\n",
            "Requirement already satisfied, skipping upgrade: numpy>=1.10.4 in /usr/local/lib/python3.6/dist-packages (from kmodes) (1.18.2)\n",
            "Requirement already satisfied, skipping upgrade: scipy>=0.13.3 in /usr/local/lib/python3.6/dist-packages (from kmodes) (1.4.1)\n",
            "Requirement already satisfied, skipping upgrade: joblib>=0.11 in /usr/local/lib/python3.6/dist-packages (from kmodes) (0.14.1)\n",
            "Requirement already satisfied, skipping upgrade: scikit-learn>=0.19.0 in /usr/local/lib/python3.6/dist-packages (from kmodes) (0.22.2.post1)\n"
          ],
          "name": "stdout"
        }
      ]
    },
    {
      "cell_type": "code",
      "metadata": {
        "id": "E6UIAGXOkflq",
        "colab_type": "code",
        "colab": {}
      },
      "source": [
        "import numpy as np\n",
        "import pandas as pd\n",
        "import scipy\n",
        "from scipy import stats\n",
        "from sqlalchemy import create_engine\n",
        "from sklearn import preprocessing\n",
        "import matplotlib.pyplot as plt\n",
        "import seaborn as sns\n",
        "from sklearn.cluster import KMeans\n",
        "from sklearn.preprocessing import StandardScaler\n",
        "from sklearn.model_selection import train_test_split\n",
        "from sklearn.decomposition import PCA\n",
        "from sklearn.cluster import DBSCAN\n",
        "import statsmodels.api as sm\n",
        "from collections import Counter\n",
        "\n",
        "from scipy.cluster.hierarchy import dendrogram, linkage\n",
        "\n",
        "from sklearn.cluster import AgglomerativeClustering\n",
        "from sklearn.decomposition import PCA\n",
        "from sklearn import datasets, metrics\n",
        "\n",
        "from matplotlib.patches import Ellipse\n",
        "from sklearn.mixture import GaussianMixture\n",
        "from sklearn.manifold import TSNE\n",
        "import time\n",
        "\n",
        "from sklearn.datasets import fetch_openml\n",
        "import umap\n",
        "import pandas_profiling\n",
        "from kmodes.kmodes import KModes"
      ],
      "execution_count": 0,
      "outputs": []
    },
    {
      "cell_type": "code",
      "metadata": {
        "id": "tJmSp8_aknMg",
        "colab_type": "code",
        "outputId": "5e69bf8e-8646-4852-b106-669ee49686d4",
        "colab": {
          "base_uri": "https://localhost:8080/",
          "height": 121
        }
      },
      "source": [
        "\n",
        "# Load the Drive helper and mount\n",
        "from google.colab import drive\n",
        "drive.mount('/content/drive')"
      ],
      "execution_count": 4,
      "outputs": [
        {
          "output_type": "stream",
          "text": [
            "Go to this URL in a browser: https://accounts.google.com/o/oauth2/auth?client_id=947318989803-6bn6qk8qdgf4n4g3pfee6491hc0brc4i.apps.googleusercontent.com&redirect_uri=urn%3aietf%3awg%3aoauth%3a2.0%3aoob&response_type=code&scope=email%20https%3a%2f%2fwww.googleapis.com%2fauth%2fdocs.test%20https%3a%2f%2fwww.googleapis.com%2fauth%2fdrive%20https%3a%2f%2fwww.googleapis.com%2fauth%2fdrive.photos.readonly%20https%3a%2f%2fwww.googleapis.com%2fauth%2fpeopleapi.readonly\n",
            "\n",
            "Enter your authorization code:\n",
            "··········\n",
            "Mounted at /content/drive\n"
          ],
          "name": "stdout"
        }
      ]
    },
    {
      "cell_type": "code",
      "metadata": {
        "id": "42yVENLgk4UM",
        "colab_type": "code",
        "colab": {}
      },
      "source": [
        "health=pd.read_csv('/content/drive/My Drive/Patient_Characteristics_Survey__PCS___2017.csv')"
      ],
      "execution_count": 0,
      "outputs": []
    },
    {
      "cell_type": "code",
      "metadata": {
        "id": "CL18yxneUoQn",
        "colab_type": "code",
        "outputId": "21b6ee68-5d6e-41d8-92f1-4ffbc91bf329",
        "colab": {
          "base_uri": "https://localhost:8080/",
          "height": 34
        }
      },
      "source": [
        "health.shape"
      ],
      "execution_count": 6,
      "outputs": [
        {
          "output_type": "execute_result",
          "data": {
            "text/plain": [
              "(187192, 67)"
            ]
          },
          "metadata": {
            "tags": []
          },
          "execution_count": 6
        }
      ]
    },
    {
      "cell_type": "code",
      "metadata": {
        "id": "8mhMh-R5lx4H",
        "colab_type": "code",
        "outputId": "cec5cb49-989f-401f-94ea-69eb110645ab",
        "colab": {
          "base_uri": "https://localhost:8080/",
          "height": 501
        }
      },
      "source": [
        "health.head()"
      ],
      "execution_count": 7,
      "outputs": [
        {
          "output_type": "execute_result",
          "data": {
            "text/html": [
              "<div>\n",
              "<style scoped>\n",
              "    .dataframe tbody tr th:only-of-type {\n",
              "        vertical-align: middle;\n",
              "    }\n",
              "\n",
              "    .dataframe tbody tr th {\n",
              "        vertical-align: top;\n",
              "    }\n",
              "\n",
              "    .dataframe thead th {\n",
              "        text-align: right;\n",
              "    }\n",
              "</style>\n",
              "<table border=\"1\" class=\"dataframe\">\n",
              "  <thead>\n",
              "    <tr style=\"text-align: right;\">\n",
              "      <th></th>\n",
              "      <th>Survey Year</th>\n",
              "      <th>Program Category</th>\n",
              "      <th>Region Served</th>\n",
              "      <th>Age Group</th>\n",
              "      <th>Sex</th>\n",
              "      <th>Transgender</th>\n",
              "      <th>Sexual Orientation</th>\n",
              "      <th>Hispanic Ethnicity</th>\n",
              "      <th>Race</th>\n",
              "      <th>Living Situation</th>\n",
              "      <th>Household Composition</th>\n",
              "      <th>Preferred Language</th>\n",
              "      <th>Veteran Status</th>\n",
              "      <th>Employment Status</th>\n",
              "      <th>Number Of Hours Worked Each Week</th>\n",
              "      <th>Education Status</th>\n",
              "      <th>Special Education Services</th>\n",
              "      <th>Mental Illness</th>\n",
              "      <th>Intellectual Disability</th>\n",
              "      <th>Autism Spectrum</th>\n",
              "      <th>Other Developmental Disability</th>\n",
              "      <th>Alcohol Related Disorder</th>\n",
              "      <th>Drug Substance Disorder</th>\n",
              "      <th>Mobility Impairment Disorder</th>\n",
              "      <th>Hearing Visual Impairment</th>\n",
              "      <th>Hyperlipidemia</th>\n",
              "      <th>High Blood Pressure</th>\n",
              "      <th>Diabetes</th>\n",
              "      <th>Obesity</th>\n",
              "      <th>Heart Attack</th>\n",
              "      <th>Stroke</th>\n",
              "      <th>Other Cardiac</th>\n",
              "      <th>Pulmonary Asthma</th>\n",
              "      <th>Alzheimer or Dementia</th>\n",
              "      <th>Kidney Disease</th>\n",
              "      <th>Liver Disease</th>\n",
              "      <th>Endocrine Condition</th>\n",
              "      <th>Neurological Condition</th>\n",
              "      <th>Traumatic Brain Injury</th>\n",
              "      <th>Joint Disease</th>\n",
              "      <th>Cancer</th>\n",
              "      <th>Other Chronic Med Condition</th>\n",
              "      <th>No Chronic Med Condition</th>\n",
              "      <th>Unknown Chronic Med Condition</th>\n",
              "      <th>Smokes</th>\n",
              "      <th>Received Smoking Medication</th>\n",
              "      <th>Received Smoking Counseling</th>\n",
              "      <th>Serious Mental Illness</th>\n",
              "      <th>Principal Diagnosis Class</th>\n",
              "      <th>Additional Diagnosis Class</th>\n",
              "      <th>SSI Cash Assistance</th>\n",
              "      <th>SSDI Cash Assistance</th>\n",
              "      <th>Veterans Disability Benefits</th>\n",
              "      <th>Veterans Cash Assistance</th>\n",
              "      <th>Public Assistance Cash Program</th>\n",
              "      <th>Other Cash Benefits</th>\n",
              "      <th>Medicaid and Medicare Insurance</th>\n",
              "      <th>Unknown Insurance Coverage</th>\n",
              "      <th>No Insurance</th>\n",
              "      <th>Medicaid Insurance</th>\n",
              "      <th>Medicaid Managed Insurance</th>\n",
              "      <th>Medicare Insurance</th>\n",
              "      <th>Private Insurance</th>\n",
              "      <th>Child Health Plus Insurance</th>\n",
              "      <th>Other Insurance</th>\n",
              "      <th>Criminal Justice Status</th>\n",
              "      <th>Three Digit Residence Zip Code</th>\n",
              "    </tr>\n",
              "  </thead>\n",
              "  <tbody>\n",
              "    <tr>\n",
              "      <th>0</th>\n",
              "      <td>2017</td>\n",
              "      <td>OUTPATIENT</td>\n",
              "      <td>CENTRAL NY REGION</td>\n",
              "      <td>ADULT</td>\n",
              "      <td>FEMALE</td>\n",
              "      <td>NO, NOT TRANSGENDER</td>\n",
              "      <td>STRAIGHT OR HETEROSEXUAL</td>\n",
              "      <td>NO, NOT HISPANIC/LATINO</td>\n",
              "      <td>WHITE ONLY</td>\n",
              "      <td>PRIVATE RESIDENCE</td>\n",
              "      <td>COHABITATES WITH OTHERS</td>\n",
              "      <td>ENGLISH</td>\n",
              "      <td>NO</td>\n",
              "      <td>NOT IN LABOR FORCE:UNEMPLOYED AND NOT LOOKING ...</td>\n",
              "      <td>NOT APPLICABLE</td>\n",
              "      <td>MIDDLE SCHOOL TO HIGH SCHOOL</td>\n",
              "      <td>NOT APPLICABLE</td>\n",
              "      <td>YES</td>\n",
              "      <td>NO</td>\n",
              "      <td>NO</td>\n",
              "      <td>YES</td>\n",
              "      <td>NO</td>\n",
              "      <td>NO</td>\n",
              "      <td>NO</td>\n",
              "      <td>NO</td>\n",
              "      <td>NO</td>\n",
              "      <td>NO</td>\n",
              "      <td>NO</td>\n",
              "      <td>NO</td>\n",
              "      <td>NO</td>\n",
              "      <td>YES</td>\n",
              "      <td>NO</td>\n",
              "      <td>YES</td>\n",
              "      <td>NO</td>\n",
              "      <td>NO</td>\n",
              "      <td>NO</td>\n",
              "      <td>YES</td>\n",
              "      <td>YES</td>\n",
              "      <td>NO</td>\n",
              "      <td>NO</td>\n",
              "      <td>NO</td>\n",
              "      <td>NO</td>\n",
              "      <td>NO</td>\n",
              "      <td>NO</td>\n",
              "      <td>NO</td>\n",
              "      <td>NO</td>\n",
              "      <td>NO</td>\n",
              "      <td>YES</td>\n",
              "      <td>MENTAL ILLNESS</td>\n",
              "      <td>NOT MI - OTHER</td>\n",
              "      <td>YES</td>\n",
              "      <td>YES</td>\n",
              "      <td>NO</td>\n",
              "      <td>NO</td>\n",
              "      <td>YES</td>\n",
              "      <td>UNKNOWN</td>\n",
              "      <td>NO</td>\n",
              "      <td>NO</td>\n",
              "      <td>NO</td>\n",
              "      <td>YES</td>\n",
              "      <td>YES</td>\n",
              "      <td>NO</td>\n",
              "      <td>NO</td>\n",
              "      <td>NO</td>\n",
              "      <td>NO</td>\n",
              "      <td>NO</td>\n",
              "      <td>132</td>\n",
              "    </tr>\n",
              "    <tr>\n",
              "      <th>1</th>\n",
              "      <td>2017</td>\n",
              "      <td>SUPPORT</td>\n",
              "      <td>WESTERN REGION</td>\n",
              "      <td>ADULT</td>\n",
              "      <td>FEMALE</td>\n",
              "      <td>NO, NOT TRANSGENDER</td>\n",
              "      <td>UNKNOWN</td>\n",
              "      <td>NO, NOT HISPANIC/LATINO</td>\n",
              "      <td>WHITE ONLY</td>\n",
              "      <td>PRIVATE RESIDENCE</td>\n",
              "      <td>LIVES ALONE</td>\n",
              "      <td>ENGLISH</td>\n",
              "      <td>NO</td>\n",
              "      <td>NOT IN LABOR FORCE:UNEMPLOYED AND NOT LOOKING ...</td>\n",
              "      <td>NOT APPLICABLE</td>\n",
              "      <td>MIDDLE SCHOOL TO HIGH SCHOOL</td>\n",
              "      <td>NOT APPLICABLE</td>\n",
              "      <td>YES</td>\n",
              "      <td>YES</td>\n",
              "      <td>UNKNOWN</td>\n",
              "      <td>UNKNOWN</td>\n",
              "      <td>NO</td>\n",
              "      <td>NO</td>\n",
              "      <td>YES</td>\n",
              "      <td>YES</td>\n",
              "      <td>YES</td>\n",
              "      <td>YES</td>\n",
              "      <td>NO</td>\n",
              "      <td>NO</td>\n",
              "      <td>NO</td>\n",
              "      <td>NO</td>\n",
              "      <td>NO</td>\n",
              "      <td>NO</td>\n",
              "      <td>NO</td>\n",
              "      <td>NO</td>\n",
              "      <td>NO</td>\n",
              "      <td>NO</td>\n",
              "      <td>NO</td>\n",
              "      <td>NO</td>\n",
              "      <td>NO</td>\n",
              "      <td>NO</td>\n",
              "      <td>NO</td>\n",
              "      <td>NO</td>\n",
              "      <td>NO</td>\n",
              "      <td>UNKNOWN</td>\n",
              "      <td>UNKNOWN</td>\n",
              "      <td>UNKNOWN</td>\n",
              "      <td>YES</td>\n",
              "      <td>MENTAL ILLNESS</td>\n",
              "      <td>UNKNOWN</td>\n",
              "      <td>YES</td>\n",
              "      <td>UNKNOWN</td>\n",
              "      <td>NO</td>\n",
              "      <td>NO</td>\n",
              "      <td>YES</td>\n",
              "      <td>YES</td>\n",
              "      <td>YES</td>\n",
              "      <td>NO</td>\n",
              "      <td>NO</td>\n",
              "      <td>YES</td>\n",
              "      <td>UNKNOWN</td>\n",
              "      <td>YES</td>\n",
              "      <td>NO</td>\n",
              "      <td>NO</td>\n",
              "      <td>NO</td>\n",
              "      <td>UNKNOWN</td>\n",
              "      <td>146</td>\n",
              "    </tr>\n",
              "    <tr>\n",
              "      <th>2</th>\n",
              "      <td>2017</td>\n",
              "      <td>OUTPATIENT</td>\n",
              "      <td>CENTRAL NY REGION</td>\n",
              "      <td>ADULT</td>\n",
              "      <td>FEMALE</td>\n",
              "      <td>NO, NOT TRANSGENDER</td>\n",
              "      <td>STRAIGHT OR HETEROSEXUAL</td>\n",
              "      <td>NO, NOT HISPANIC/LATINO</td>\n",
              "      <td>WHITE ONLY</td>\n",
              "      <td>PRIVATE RESIDENCE</td>\n",
              "      <td>COHABITATES WITH OTHERS</td>\n",
              "      <td>ENGLISH</td>\n",
              "      <td>NO</td>\n",
              "      <td>NOT IN LABOR FORCE:UNEMPLOYED AND NOT LOOKING ...</td>\n",
              "      <td>NOT APPLICABLE</td>\n",
              "      <td>MIDDLE SCHOOL TO HIGH SCHOOL</td>\n",
              "      <td>NOT APPLICABLE</td>\n",
              "      <td>YES</td>\n",
              "      <td>NO</td>\n",
              "      <td>NO</td>\n",
              "      <td>NO</td>\n",
              "      <td>NO</td>\n",
              "      <td>NO</td>\n",
              "      <td>YES</td>\n",
              "      <td>NO</td>\n",
              "      <td>NO</td>\n",
              "      <td>YES</td>\n",
              "      <td>YES</td>\n",
              "      <td>YES</td>\n",
              "      <td>NO</td>\n",
              "      <td>NO</td>\n",
              "      <td>NO</td>\n",
              "      <td>YES</td>\n",
              "      <td>NO</td>\n",
              "      <td>NO</td>\n",
              "      <td>NO</td>\n",
              "      <td>NO</td>\n",
              "      <td>NO</td>\n",
              "      <td>NO</td>\n",
              "      <td>YES</td>\n",
              "      <td>NO</td>\n",
              "      <td>NO</td>\n",
              "      <td>NO</td>\n",
              "      <td>NO</td>\n",
              "      <td>NO</td>\n",
              "      <td>NO</td>\n",
              "      <td>NO</td>\n",
              "      <td>YES</td>\n",
              "      <td>MENTAL ILLNESS</td>\n",
              "      <td>NOT MI - OTHER</td>\n",
              "      <td>NO</td>\n",
              "      <td>YES</td>\n",
              "      <td>NO</td>\n",
              "      <td>NO</td>\n",
              "      <td>YES</td>\n",
              "      <td>NO</td>\n",
              "      <td>NO</td>\n",
              "      <td>NO</td>\n",
              "      <td>NO</td>\n",
              "      <td>YES</td>\n",
              "      <td>NO</td>\n",
              "      <td>NO</td>\n",
              "      <td>NO</td>\n",
              "      <td>NO</td>\n",
              "      <td>NO</td>\n",
              "      <td>NO</td>\n",
              "      <td>131</td>\n",
              "    </tr>\n",
              "    <tr>\n",
              "      <th>3</th>\n",
              "      <td>2017</td>\n",
              "      <td>OUTPATIENT</td>\n",
              "      <td>NEW YORK CITY REGION</td>\n",
              "      <td>ADULT</td>\n",
              "      <td>FEMALE</td>\n",
              "      <td>NO, NOT TRANSGENDER</td>\n",
              "      <td>STRAIGHT OR HETEROSEXUAL</td>\n",
              "      <td>NO, NOT HISPANIC/LATINO</td>\n",
              "      <td>WHITE ONLY</td>\n",
              "      <td>PRIVATE RESIDENCE</td>\n",
              "      <td>LIVES ALONE</td>\n",
              "      <td>ENGLISH</td>\n",
              "      <td>NO</td>\n",
              "      <td>NOT IN LABOR FORCE:UNEMPLOYED AND NOT LOOKING ...</td>\n",
              "      <td>NOT APPLICABLE</td>\n",
              "      <td>MIDDLE SCHOOL TO HIGH SCHOOL</td>\n",
              "      <td>NOT APPLICABLE</td>\n",
              "      <td>YES</td>\n",
              "      <td>NO</td>\n",
              "      <td>NO</td>\n",
              "      <td>NO</td>\n",
              "      <td>NO</td>\n",
              "      <td>NO</td>\n",
              "      <td>NO</td>\n",
              "      <td>NO</td>\n",
              "      <td>YES</td>\n",
              "      <td>NO</td>\n",
              "      <td>NO</td>\n",
              "      <td>NO</td>\n",
              "      <td>NO</td>\n",
              "      <td>NO</td>\n",
              "      <td>NO</td>\n",
              "      <td>NO</td>\n",
              "      <td>NO</td>\n",
              "      <td>NO</td>\n",
              "      <td>NO</td>\n",
              "      <td>NO</td>\n",
              "      <td>NO</td>\n",
              "      <td>NO</td>\n",
              "      <td>NO</td>\n",
              "      <td>NO</td>\n",
              "      <td>YES</td>\n",
              "      <td>NO</td>\n",
              "      <td>NO</td>\n",
              "      <td>NO</td>\n",
              "      <td>NO</td>\n",
              "      <td>NO</td>\n",
              "      <td>YES</td>\n",
              "      <td>MENTAL ILLNESS</td>\n",
              "      <td>MENTAL ILLNESS</td>\n",
              "      <td>YES</td>\n",
              "      <td>UNKNOWN</td>\n",
              "      <td>NO</td>\n",
              "      <td>NO</td>\n",
              "      <td>UNKNOWN</td>\n",
              "      <td>UNKNOWN</td>\n",
              "      <td>YES</td>\n",
              "      <td>NO</td>\n",
              "      <td>NO</td>\n",
              "      <td>YES</td>\n",
              "      <td>NO</td>\n",
              "      <td>YES</td>\n",
              "      <td>NO</td>\n",
              "      <td>NO</td>\n",
              "      <td>NO</td>\n",
              "      <td>NO</td>\n",
              "      <td>112</td>\n",
              "    </tr>\n",
              "    <tr>\n",
              "      <th>4</th>\n",
              "      <td>2017</td>\n",
              "      <td>OUTPATIENT</td>\n",
              "      <td>CENTRAL NY REGION</td>\n",
              "      <td>ADULT</td>\n",
              "      <td>MALE</td>\n",
              "      <td>NO, NOT TRANSGENDER</td>\n",
              "      <td>STRAIGHT OR HETEROSEXUAL</td>\n",
              "      <td>NO, NOT HISPANIC/LATINO</td>\n",
              "      <td>WHITE ONLY</td>\n",
              "      <td>PRIVATE RESIDENCE</td>\n",
              "      <td>LIVES ALONE</td>\n",
              "      <td>ENGLISH</td>\n",
              "      <td>NO</td>\n",
              "      <td>UNEMPLOYED, LOOKING FOR WORK</td>\n",
              "      <td>NOT APPLICABLE</td>\n",
              "      <td>SOME COLLEGE</td>\n",
              "      <td>NOT APPLICABLE</td>\n",
              "      <td>YES</td>\n",
              "      <td>NO</td>\n",
              "      <td>NO</td>\n",
              "      <td>NO</td>\n",
              "      <td>NO</td>\n",
              "      <td>NO</td>\n",
              "      <td>NO</td>\n",
              "      <td>NO</td>\n",
              "      <td>NO</td>\n",
              "      <td>NO</td>\n",
              "      <td>NO</td>\n",
              "      <td>NO</td>\n",
              "      <td>NO</td>\n",
              "      <td>NO</td>\n",
              "      <td>NO</td>\n",
              "      <td>NO</td>\n",
              "      <td>NO</td>\n",
              "      <td>NO</td>\n",
              "      <td>NO</td>\n",
              "      <td>NO</td>\n",
              "      <td>NO</td>\n",
              "      <td>NO</td>\n",
              "      <td>NO</td>\n",
              "      <td>NO</td>\n",
              "      <td>NO</td>\n",
              "      <td>YES</td>\n",
              "      <td>NO</td>\n",
              "      <td>YES</td>\n",
              "      <td>YES</td>\n",
              "      <td>YES</td>\n",
              "      <td>YES</td>\n",
              "      <td>MENTAL ILLNESS</td>\n",
              "      <td>MENTAL ILLNESS</td>\n",
              "      <td>NO</td>\n",
              "      <td>NO</td>\n",
              "      <td>NO</td>\n",
              "      <td>NO</td>\n",
              "      <td>NO</td>\n",
              "      <td>NO</td>\n",
              "      <td>NO</td>\n",
              "      <td>YES</td>\n",
              "      <td>NO</td>\n",
              "      <td>NO</td>\n",
              "      <td>NOT APPLICABLE</td>\n",
              "      <td>NO</td>\n",
              "      <td>NO</td>\n",
              "      <td>NO</td>\n",
              "      <td>NO</td>\n",
              "      <td>NO</td>\n",
              "      <td>130</td>\n",
              "    </tr>\n",
              "  </tbody>\n",
              "</table>\n",
              "</div>"
            ],
            "text/plain": [
              "   Survey Year  ... Three Digit Residence Zip Code\n",
              "0         2017  ...                            132\n",
              "1         2017  ...                            146\n",
              "2         2017  ...                            131\n",
              "3         2017  ...                            112\n",
              "4         2017  ...                            130\n",
              "\n",
              "[5 rows x 67 columns]"
            ]
          },
          "metadata": {
            "tags": []
          },
          "execution_count": 7
        }
      ]
    },
    {
      "cell_type": "code",
      "metadata": {
        "id": "0NkrGUXFmLDA",
        "colab_type": "code",
        "colab": {}
      },
      "source": [
        "#pandas_profiling.ProfileReport(health)"
      ],
      "execution_count": 0,
      "outputs": []
    },
    {
      "cell_type": "markdown",
      "metadata": {
        "id": "h66UoXWSnnE2",
        "colab_type": "text"
      },
      "source": [
        "pd.set_option('display.max_columns', None)\n",
        "pd.set_option('display.max_rows', None)"
      ]
    },
    {
      "cell_type": "code",
      "metadata": {
        "id": "5SGqqnwgm7bo",
        "colab_type": "code",
        "colab": {}
      },
      "source": [
        "#health.info()"
      ],
      "execution_count": 0,
      "outputs": []
    },
    {
      "cell_type": "code",
      "metadata": {
        "id": "UTm6TLUUpa1E",
        "colab_type": "code",
        "outputId": "42d88f1a-e4b4-4626-dc05-2cba4f4ff8a3",
        "colab": {
          "base_uri": "https://localhost:8080/",
          "height": 118
        }
      },
      "source": [
        "health['Program Category'].value_counts()"
      ],
      "execution_count": 8,
      "outputs": [
        {
          "output_type": "execute_result",
          "data": {
            "text/plain": [
              "OUTPATIENT     126064\n",
              "RESIDENTIAL     28734\n",
              "SUPPORT         19411\n",
              "INPATIENT        9282\n",
              "EMERGENCY        3701\n",
              "Name: Program Category, dtype: int64"
            ]
          },
          "metadata": {
            "tags": []
          },
          "execution_count": 8
        }
      ]
    },
    {
      "cell_type": "code",
      "metadata": {
        "id": "HQmApma0nN3s",
        "colab_type": "code",
        "colab": {}
      },
      "source": [
        "#health.isna().sum()"
      ],
      "execution_count": 0,
      "outputs": []
    },
    {
      "cell_type": "markdown",
      "metadata": {
        "id": "dxpwLRDboXDB",
        "colab_type": "text"
      },
      "source": [
        "/////////////////////////////////////////////////////////////////////////////////////////////////"
      ]
    },
    {
      "cell_type": "code",
      "metadata": {
        "id": "_HwCEVboomXO",
        "colab_type": "code",
        "outputId": "a0eba3a2-3096-4767-9c73-04a906887d0c",
        "colab": {
          "base_uri": "https://localhost:8080/",
          "height": 336
        }
      },
      "source": [
        "pip install hdbscan"
      ],
      "execution_count": 0,
      "outputs": [
        {
          "output_type": "stream",
          "text": [
            "Collecting hdbscan\n",
            "\u001b[?25l  Downloading https://files.pythonhosted.org/packages/22/2f/2423d844072f007a74214c1adc46260e45f034bb1679ccadfbb8a601f647/hdbscan-0.8.26.tar.gz (4.7MB)\n",
            "\u001b[K     |████████████████████████████████| 4.7MB 2.6MB/s \n",
            "\u001b[?25h  Installing build dependencies ... \u001b[?25l\u001b[?25hdone\n",
            "  Getting requirements to build wheel ... \u001b[?25l\u001b[?25hdone\n",
            "    Preparing wheel metadata ... \u001b[?25l\u001b[?25hdone\n",
            "Requirement already satisfied: scipy>=0.9 in /usr/local/lib/python3.6/dist-packages (from hdbscan) (1.4.1)\n",
            "Requirement already satisfied: cython>=0.27 in /usr/local/lib/python3.6/dist-packages (from hdbscan) (0.29.15)\n",
            "Requirement already satisfied: six in /usr/local/lib/python3.6/dist-packages (from hdbscan) (1.12.0)\n",
            "Requirement already satisfied: joblib in /usr/local/lib/python3.6/dist-packages (from hdbscan) (0.14.1)\n",
            "Requirement already satisfied: scikit-learn>=0.17 in /usr/local/lib/python3.6/dist-packages (from hdbscan) (0.22.2.post1)\n",
            "Requirement already satisfied: numpy>=1.16.0 in /usr/local/lib/python3.6/dist-packages (from hdbscan) (1.18.2)\n",
            "Building wheels for collected packages: hdbscan\n",
            "  Building wheel for hdbscan (PEP 517) ... \u001b[?25l\u001b[?25hdone\n",
            "  Created wheel for hdbscan: filename=hdbscan-0.8.26-cp36-cp36m-linux_x86_64.whl size=2361285 sha256=b382c7a116601f5317aabfb2e1763da2e64db4d14f23afffd8bb8abd4da86c1a\n",
            "  Stored in directory: /root/.cache/pip/wheels/82/38/41/372f034d8abd271ef7787a681e0a47fc05d472683a7eb088ed\n",
            "Successfully built hdbscan\n",
            "Installing collected packages: hdbscan\n",
            "Successfully installed hdbscan-0.8.26\n"
          ],
          "name": "stdout"
        }
      ]
    },
    {
      "cell_type": "code",
      "metadata": {
        "id": "SCjeXOlLoZsI",
        "colab_type": "code",
        "colab": {}
      },
      "source": [
        "#from sklearn.datasets import fetch_mldata\n",
        "from sklearn.decomposition import PCA\n",
        "import numpy as np\n",
        "import matplotlib.pyplot as plt\n",
        "import seaborn as sns\n",
        "%matplotlib inline\n",
        "\n",
        "# Dimension reduction and clustering libraries\n",
        "import umap\n",
        "#import hdbscan\n",
        "import sklearn.cluster as cluster\n",
        "from sklearn.metrics import adjusted_rand_score, adjusted_mutual_info_score"
      ],
      "execution_count": 0,
      "outputs": []
    },
    {
      "cell_type": "code",
      "metadata": {
        "id": "Am9yAS_wpFPa",
        "colab_type": "code",
        "colab": {}
      },
      "source": [
        "#standard_embedding = umap.UMAP(random_state=42).fit_transform(health)\n",
        "#plt.scatter(standard_embedding[:, 0], standard_embedding[:, 1], c=mnist.target, s=0.1, cmap='Spectral');"
      ],
      "execution_count": 0,
      "outputs": []
    },
    {
      "cell_type": "markdown",
      "metadata": {
        "id": "xmCLOFjZRlSA",
        "colab_type": "text"
      },
      "source": [
        "**////////////////////////////////////////////////////////////////////////////////**/////"
      ]
    },
    {
      "cell_type": "code",
      "metadata": {
        "id": "fuGf66eT97cE",
        "colab_type": "code",
        "colab": {}
      },
      "source": [
        "u=[health[x].nunique(dropna=False)  for x in list(health)]"
      ],
      "execution_count": 0,
      "outputs": []
    },
    {
      "cell_type": "code",
      "metadata": {
        "id": "dRn9ofLL_O78",
        "colab_type": "code",
        "colab": {}
      },
      "source": [
        "z=zip(u,list(health))"
      ],
      "execution_count": 0,
      "outputs": []
    },
    {
      "cell_type": "code",
      "metadata": {
        "id": "8KHaVdFd_Urq",
        "colab_type": "code",
        "colab": {}
      },
      "source": [
        "#list(z)"
      ],
      "execution_count": 0,
      "outputs": []
    },
    {
      "cell_type": "code",
      "metadata": {
        "id": "rqr6eGBh_g9l",
        "colab_type": "code",
        "outputId": "8dafebe7-07cb-4ca5-f0f8-4aac4f12a065",
        "colab": {
          "base_uri": "https://localhost:8080/",
          "height": 101
        }
      },
      "source": [
        "health['Special Education Services'].value_counts(dropna=False)"
      ],
      "execution_count": 0,
      "outputs": [
        {
          "output_type": "execute_result",
          "data": {
            "text/plain": [
              "NOT APPLICABLE    150514\n",
              "NO                 17348\n",
              "YES                16082\n",
              "UNKNOWN             3248\n",
              "Name: Special Education Services, dtype: int64"
            ]
          },
          "metadata": {
            "tags": []
          },
          "execution_count": 64
        }
      ]
    },
    {
      "cell_type": "code",
      "metadata": {
        "id": "EcJC5IrpaTL2",
        "colab_type": "code",
        "outputId": "4a2d5dae-75e2-4520-96ce-7d00b5de9c99",
        "colab": {
          "base_uri": "https://localhost:8080/",
          "height": 34
        }
      },
      "source": [
        "health['Special Education Services'].str.count('NOT APPLICABLE').sum()"
      ],
      "execution_count": 12,
      "outputs": [
        {
          "output_type": "execute_result",
          "data": {
            "text/plain": [
              "150514"
            ]
          },
          "metadata": {
            "tags": []
          },
          "execution_count": 12
        }
      ]
    },
    {
      "cell_type": "code",
      "metadata": {
        "id": "PaCPihWwcq7M",
        "colab_type": "code",
        "outputId": "e970535f-202e-412c-9327-8752b81139cd",
        "colab": {
          "base_uri": "https://localhost:8080/",
          "height": 70
        }
      },
      "source": [
        "not_applicable=[np.sum(health[col] == 'NOT APPLICABLE') for col in list(health)]"
      ],
      "execution_count": 13,
      "outputs": [
        {
          "output_type": "stream",
          "text": [
            "/usr/local/lib/python3.6/dist-packages/pandas/core/ops/__init__.py:1115: FutureWarning: elementwise comparison failed; returning scalar instead, but in the future will perform elementwise comparison\n",
            "  result = method(y)\n"
          ],
          "name": "stderr"
        }
      ]
    },
    {
      "cell_type": "markdown",
      "metadata": {
        "id": "0rSSDj_6Wdz-",
        "colab_type": "text"
      },
      "source": [
        "a=[health[x]=='NOT APPLICABLE'  for x in list(health)]"
      ]
    },
    {
      "cell_type": "code",
      "metadata": {
        "id": "ITMe44lSWp8k",
        "colab_type": "code",
        "colab": {}
      },
      "source": [
        "z2=zip(not_applicable,list(health))\n",
        "lz=list(z2)\n",
        "#lz"
      ],
      "execution_count": 0,
      "outputs": []
    },
    {
      "cell_type": "code",
      "metadata": {
        "id": "_o8qNV4nux8G",
        "colab_type": "code",
        "colab": {}
      },
      "source": [
        "health.drop(['Survey Year','Three Digit Residence Zip Code','Number Of Hours Worked Each Week','Special Education Services'],1,inplace=True)"
      ],
      "execution_count": 0,
      "outputs": []
    },
    {
      "cell_type": "code",
      "metadata": {
        "id": "hkhSeBPjvm7l",
        "colab_type": "code",
        "outputId": "7d607f1a-d975-4dfa-d243-359135deca9b",
        "colab": {
          "base_uri": "https://localhost:8080/",
          "height": 34
        }
      },
      "source": [
        "health.shape"
      ],
      "execution_count": 16,
      "outputs": [
        {
          "output_type": "execute_result",
          "data": {
            "text/plain": [
              "(187192, 63)"
            ]
          },
          "metadata": {
            "tags": []
          },
          "execution_count": 16
        }
      ]
    },
    {
      "cell_type": "markdown",
      "metadata": {
        "id": "C-khepLT0C2g",
        "colab_type": "text"
      },
      "source": [
        "new_df = df[~df[\"col\"].str.contains(word)]"
      ]
    },
    {
      "cell_type": "markdown",
      "metadata": {
        "id": "HvKys1Yp7g93",
        "colab_type": "text"
      },
      "source": [
        "df[~df.C.str.contains(\"XYZ\")]"
      ]
    },
    {
      "cell_type": "code",
      "metadata": {
        "id": "-m6c_Egu0Eq7",
        "colab_type": "code",
        "colab": {}
      },
      "source": [
        "health2 = health[~health['Medicaid Managed Insurance'].str.contains('NOT APPLICABLE')]"
      ],
      "execution_count": 0,
      "outputs": []
    },
    {
      "cell_type": "code",
      "metadata": {
        "id": "DWscOjyk6Enq",
        "colab_type": "code",
        "outputId": "8a3fd558-a3f0-4d9a-89ec-9ab5b35552bd",
        "colab": {
          "base_uri": "https://localhost:8080/",
          "height": 34
        }
      },
      "source": [
        "health2.shape"
      ],
      "execution_count": 18,
      "outputs": [
        {
          "output_type": "execute_result",
          "data": {
            "text/plain": [
              "(137502, 63)"
            ]
          },
          "metadata": {
            "tags": []
          },
          "execution_count": 18
        }
      ]
    },
    {
      "cell_type": "code",
      "metadata": {
        "id": "T5xC9rEu6PUu",
        "colab_type": "code",
        "colab": {}
      },
      "source": [
        "not_applicable=[np.sum(health2[col] == 'NOT APPLICABLE') for col in list(health2)]"
      ],
      "execution_count": 0,
      "outputs": []
    },
    {
      "cell_type": "code",
      "metadata": {
        "id": "KQ0uxxuc6UXo",
        "colab_type": "code",
        "outputId": "5ad550c3-54f4-4909-cd96-ab771b0f0aef",
        "colab": {
          "base_uri": "https://localhost:8080/",
          "height": 1000
        }
      },
      "source": [
        "z3=zip(not_applicable,list(health2))\n",
        "lz3=list(z3)\n",
        "lz3"
      ],
      "execution_count": 20,
      "outputs": [
        {
          "output_type": "execute_result",
          "data": {
            "text/plain": [
              "[(0, 'Program Category'),\n",
              " (0, 'Region Served'),\n",
              " (0, 'Age Group'),\n",
              " (0, 'Sex'),\n",
              " (0, 'Transgender'),\n",
              " (0, 'Sexual Orientation'),\n",
              " (0, 'Hispanic Ethnicity'),\n",
              " (0, 'Race'),\n",
              " (0, 'Living Situation'),\n",
              " (26023, 'Household Composition'),\n",
              " (0, 'Preferred Language'),\n",
              " (0, 'Veteran Status'),\n",
              " (0, 'Employment Status'),\n",
              " (0, 'Education Status'),\n",
              " (0, 'Mental Illness'),\n",
              " (0, 'Intellectual Disability'),\n",
              " (0, 'Autism Spectrum'),\n",
              " (0, 'Other Developmental Disability'),\n",
              " (0, 'Alcohol Related Disorder'),\n",
              " (0, 'Drug Substance Disorder'),\n",
              " (0, 'Mobility Impairment Disorder'),\n",
              " (0, 'Hearing Visual Impairment'),\n",
              " (0, 'Hyperlipidemia'),\n",
              " (0, 'High Blood Pressure'),\n",
              " (0, 'Diabetes'),\n",
              " (0, 'Obesity'),\n",
              " (0, 'Heart Attack'),\n",
              " (0, 'Stroke'),\n",
              " (0, 'Other Cardiac'),\n",
              " (0, 'Pulmonary Asthma'),\n",
              " (0, 'Alzheimer or Dementia'),\n",
              " (0, 'Kidney Disease'),\n",
              " (0, 'Liver Disease'),\n",
              " (0, 'Endocrine Condition'),\n",
              " (0, 'Neurological Condition'),\n",
              " (0, 'Traumatic Brain Injury'),\n",
              " (0, 'Joint Disease'),\n",
              " (0, 'Cancer'),\n",
              " (0, 'Other Chronic Med Condition'),\n",
              " (0, 'No Chronic Med Condition'),\n",
              " (0, 'Unknown Chronic Med Condition'),\n",
              " (0, 'Smokes'),\n",
              " (0, 'Received Smoking Medication'),\n",
              " (0, 'Received Smoking Counseling'),\n",
              " (0, 'Serious Mental Illness'),\n",
              " (0, 'Principal Diagnosis Class'),\n",
              " (0, 'Additional Diagnosis Class'),\n",
              " (0, 'SSI Cash Assistance'),\n",
              " (0, 'SSDI Cash Assistance'),\n",
              " (0, 'Veterans Disability Benefits'),\n",
              " (0, 'Veterans Cash Assistance'),\n",
              " (0, 'Public Assistance Cash Program'),\n",
              " (0, 'Other Cash Benefits'),\n",
              " (0, 'Medicaid and Medicare Insurance'),\n",
              " (0, 'Unknown Insurance Coverage'),\n",
              " (0, 'No Insurance'),\n",
              " (0, 'Medicaid Insurance'),\n",
              " (0, 'Medicaid Managed Insurance'),\n",
              " (0, 'Medicare Insurance'),\n",
              " (0, 'Private Insurance'),\n",
              " (0, 'Child Health Plus Insurance'),\n",
              " (0, 'Other Insurance'),\n",
              " (0, 'Criminal Justice Status')]"
            ]
          },
          "metadata": {
            "tags": []
          },
          "execution_count": 20
        }
      ]
    },
    {
      "cell_type": "code",
      "metadata": {
        "id": "-Q9O9grp75b0",
        "colab_type": "code",
        "outputId": "c7eeff60-7efe-4803-81d0-24fb45b74f5c",
        "colab": {
          "base_uri": "https://localhost:8080/",
          "height": 84
        }
      },
      "source": [
        "health2['Medicaid Managed Insurance'].value_counts()"
      ],
      "execution_count": 21,
      "outputs": [
        {
          "output_type": "execute_result",
          "data": {
            "text/plain": [
              "YES        82609\n",
              "NO         39975\n",
              "UNKNOWN    14918\n",
              "Name: Medicaid Managed Insurance, dtype: int64"
            ]
          },
          "metadata": {
            "tags": []
          },
          "execution_count": 21
        }
      ]
    },
    {
      "cell_type": "code",
      "metadata": {
        "id": "8RoWIqRb8TKg",
        "colab_type": "code",
        "outputId": "cecf9236-458f-4c46-b218-9b1f7083798f",
        "colab": {
          "base_uri": "https://localhost:8080/",
          "height": 101
        }
      },
      "source": [
        "health2['Household Composition'].value_counts()"
      ],
      "execution_count": 22,
      "outputs": [
        {
          "output_type": "execute_result",
          "data": {
            "text/plain": [
              "COHABITATES WITH OTHERS    73594\n",
              "LIVES ALONE                31084\n",
              "NOT APPLICABLE             26023\n",
              "UNKNOWN                     6801\n",
              "Name: Household Composition, dtype: int64"
            ]
          },
          "metadata": {
            "tags": []
          },
          "execution_count": 22
        }
      ]
    },
    {
      "cell_type": "code",
      "metadata": {
        "id": "-N6TZLQ68hHg",
        "colab_type": "code",
        "colab": {}
      },
      "source": [
        "health3 = health2[~health2['Household Composition'].str.contains('NOT APPLICABLE')]"
      ],
      "execution_count": 0,
      "outputs": []
    },
    {
      "cell_type": "code",
      "metadata": {
        "id": "2fLJyGEZ8w_h",
        "colab_type": "code",
        "colab": {}
      },
      "source": [
        "not_applicable3=[np.sum(health3[col] == 'NOT APPLICABLE') for col in list(health3)]"
      ],
      "execution_count": 0,
      "outputs": []
    },
    {
      "cell_type": "code",
      "metadata": {
        "id": "dN46XqT988Qk",
        "colab_type": "code",
        "colab": {}
      },
      "source": [
        "z33=zip(not_applicable3,list(health3))\n",
        "listz33=list(z33)\n",
        "#listz33"
      ],
      "execution_count": 0,
      "outputs": []
    },
    {
      "cell_type": "code",
      "metadata": {
        "id": "bhbMM6_N9L7s",
        "colab_type": "code",
        "outputId": "52617bd2-d5ce-429d-b2b3-158f07906c07",
        "colab": {
          "base_uri": "https://localhost:8080/",
          "height": 34
        }
      },
      "source": [
        "health3.shape"
      ],
      "execution_count": 0,
      "outputs": [
        {
          "output_type": "execute_result",
          "data": {
            "text/plain": [
              "(111479, 63)"
            ]
          },
          "metadata": {
            "tags": []
          },
          "execution_count": 26
        }
      ]
    },
    {
      "cell_type": "code",
      "metadata": {
        "id": "ldAP9XsQ9xjn",
        "colab_type": "code",
        "colab": {}
      },
      "source": [
        "health_dummies = pd.get_dummies(health3)"
      ],
      "execution_count": 0,
      "outputs": []
    },
    {
      "cell_type": "code",
      "metadata": {
        "id": "vueo__tC97OW",
        "colab_type": "code",
        "outputId": "aace518c-a7b9-4254-c017-ba5f41924026",
        "colab": {
          "base_uri": "https://localhost:8080/",
          "height": 34
        }
      },
      "source": [
        "health_dummies.shape"
      ],
      "execution_count": 28,
      "outputs": [
        {
          "output_type": "execute_result",
          "data": {
            "text/plain": [
              "(111479, 207)"
            ]
          },
          "metadata": {
            "tags": []
          },
          "execution_count": 28
        }
      ]
    },
    {
      "cell_type": "markdown",
      "metadata": {
        "id": "UqMpoUjgC3VA",
        "colab_type": "text"
      },
      "source": [
        "##**UMAP**"
      ]
    },
    {
      "cell_type": "code",
      "metadata": {
        "id": "U7E1jOPifgQz",
        "colab_type": "code",
        "outputId": "0d74e530-8aba-447f-e103-b5e01e00d767",
        "colab": {
          "base_uri": "https://localhost:8080/",
          "height": 151
        }
      },
      "source": [
        "!pip install umap-learn\n"
      ],
      "execution_count": 0,
      "outputs": [
        {
          "output_type": "stream",
          "text": [
            "Requirement already satisfied: umap-learn in /usr/local/lib/python3.6/dist-packages (0.3.10)\n",
            "Requirement already satisfied: scipy>=0.19 in /usr/local/lib/python3.6/dist-packages (from umap-learn) (1.4.1)\n",
            "Requirement already satisfied: scikit-learn>=0.16 in /usr/local/lib/python3.6/dist-packages (from umap-learn) (0.22.2.post1)\n",
            "Requirement already satisfied: numpy>=1.13 in /usr/local/lib/python3.6/dist-packages (from umap-learn) (1.18.2)\n",
            "Requirement already satisfied: numba>=0.37 in /usr/local/lib/python3.6/dist-packages (from umap-learn) (0.47.0)\n",
            "Requirement already satisfied: joblib>=0.11 in /usr/local/lib/python3.6/dist-packages (from scikit-learn>=0.16->umap-learn) (0.14.1)\n",
            "Requirement already satisfied: setuptools in /usr/local/lib/python3.6/dist-packages (from numba>=0.37->umap-learn) (46.0.0)\n",
            "Requirement already satisfied: llvmlite>=0.31.0dev0 in /usr/local/lib/python3.6/dist-packages (from numba>=0.37->umap-learn) (0.31.0)\n"
          ],
          "name": "stdout"
        }
      ]
    },
    {
      "cell_type": "code",
      "metadata": {
        "id": "X7VknV6_mgk7",
        "colab_type": "code",
        "colab": {}
      },
      "source": [
        "kmeans_labels = cluster.KMeans(n_clusters=10).fit_predict(health_dummies)"
      ],
      "execution_count": 0,
      "outputs": []
    },
    {
      "cell_type": "code",
      "metadata": {
        "id": "WDM9o_TPfmmv",
        "colab_type": "code",
        "colab": {}
      },
      "source": [
        "import umap"
      ],
      "execution_count": 0,
      "outputs": []
    },
    {
      "cell_type": "code",
      "metadata": {
        "id": "thzv7YIkgwGi",
        "colab_type": "code",
        "outputId": "debe2a28-453a-4d84-db28-67172cb33492",
        "colab": {
          "base_uri": "https://localhost:8080/",
          "height": 521
        }
      },
      "source": [
        "umap_results = umap.UMAP(n_neighbors=5,\n",
        "                      min_dist=0.3,\n",
        "                      metric='correlation').fit_transform(health_dummies)"
      ],
      "execution_count": 0,
      "outputs": [
        {
          "output_type": "stream",
          "text": [
            "/usr/local/lib/python3.6/dist-packages/umap/nndescent.py:92: NumbaPerformanceWarning: \n",
            "The keyword argument 'parallel=True' was specified but no transformation for parallel execution was possible.\n",
            "\n",
            "To find out why, try turning on parallel diagnostics, see http://numba.pydata.org/numba-doc/latest/user/parallel.html#diagnostics for help.\n",
            "\n",
            "File \"../usr/local/lib/python3.6/dist-packages/umap/utils.py\", line 409:\n",
            "@numba.njit(parallel=True)\n",
            "def build_candidates(current_graph, n_vertices, n_neighbors, max_candidates, rng_state):\n",
            "^\n",
            "\n",
            "  current_graph, n_vertices, n_neighbors, max_candidates, rng_state\n",
            "/usr/local/lib/python3.6/dist-packages/numba/typed_passes.py:293: NumbaPerformanceWarning: \n",
            "The keyword argument 'parallel=True' was specified but no transformation for parallel execution was possible.\n",
            "\n",
            "To find out why, try turning on parallel diagnostics, see http://numba.pydata.org/numba-doc/latest/user/parallel.html#diagnostics for help.\n",
            "\n",
            "File \"../usr/local/lib/python3.6/dist-packages/umap/nndescent.py\", line 47:\n",
            "    @numba.njit(parallel=True)\n",
            "    def nn_descent(\n",
            "    ^\n",
            "\n",
            "  state.func_ir.loc))\n",
            "/usr/local/lib/python3.6/dist-packages/umap/spectral.py:229: UserWarning: Embedding a total of 23 separate connected components using meta-embedding (experimental)\n",
            "  n_components\n",
            "/usr/local/lib/python3.6/dist-packages/umap/spectral.py:182: UserWarning: WARNING: spectral initialisation failed! The eigenvector solver\n",
            "failed. This is likely due to too small an eigengap. Consider\n",
            "adding some noise or jitter to your data.\n",
            "\n",
            "Falling back to random initialisation!\n",
            "  \"WARNING: spectral initialisation failed! The eigenvector solver\\n\"\n"
          ],
          "name": "stderr"
        }
      ]
    },
    {
      "cell_type": "code",
      "metadata": {
        "id": "MGsptsKGiAzi",
        "colab_type": "code",
        "outputId": "4ceee0bd-1cfa-45df-be30-1804b014d3b1",
        "colab": {
          "base_uri": "https://localhost:8080/",
          "height": 134
        }
      },
      "source": [
        "umap_results"
      ],
      "execution_count": 0,
      "outputs": [
        {
          "output_type": "execute_result",
          "data": {
            "text/plain": [
              "array([[12.104816  , -2.5959058 ],\n",
              "       [11.94813   ,  8.07227   ],\n",
              "       [ 9.5758915 , -1.9450155 ],\n",
              "       ...,\n",
              "       [10.870339  , -2.3616564 ],\n",
              "       [ 7.2217054 ,  0.12646377],\n",
              "       [16.716503  , -0.6388486 ]], dtype=float32)"
            ]
          },
          "metadata": {
            "tags": []
          },
          "execution_count": 32
        }
      ]
    },
    {
      "cell_type": "code",
      "metadata": {
        "id": "WzbVS0rgiG-O",
        "colab_type": "code",
        "outputId": "e0db92a8-6722-4a3a-9efd-e4e65667ffbf",
        "colab": {
          "base_uri": "https://localhost:8080/",
          "height": 34
        }
      },
      "source": [
        "umap_results.shape"
      ],
      "execution_count": 0,
      "outputs": [
        {
          "output_type": "execute_result",
          "data": {
            "text/plain": [
              "(111479, 2)"
            ]
          },
          "metadata": {
            "tags": []
          },
          "execution_count": 33
        }
      ]
    },
    {
      "cell_type": "code",
      "metadata": {
        "id": "yGGkq3whjMLY",
        "colab_type": "code",
        "outputId": "3e523cc0-3066-46ea-8d88-1683d8e4085a",
        "colab": {
          "base_uri": "https://localhost:8080/",
          "height": 554
        }
      },
      "source": [
        "reducer = umap.UMAP(random_state=42)\n",
        "reducer.fit(health_dummies)"
      ],
      "execution_count": 0,
      "outputs": [
        {
          "output_type": "stream",
          "text": [
            "/usr/local/lib/python3.6/dist-packages/numba/typed_passes.py:293: NumbaPerformanceWarning: \n",
            "The keyword argument 'parallel=True' was specified but no transformation for parallel execution was possible.\n",
            "\n",
            "To find out why, try turning on parallel diagnostics, see http://numba.pydata.org/numba-doc/latest/user/parallel.html#diagnostics for help.\n",
            "\n",
            "File \"../usr/local/lib/python3.6/dist-packages/umap/rp_tree.py\", line 135:\n",
            "@numba.njit(fastmath=True, nogil=True, parallel=True)\n",
            "def euclidean_random_projection_split(data, indices, rng_state):\n",
            "^\n",
            "\n",
            "  state.func_ir.loc))\n",
            "/usr/local/lib/python3.6/dist-packages/numba/typed_passes.py:293: NumbaPerformanceWarning: \n",
            "The keyword argument 'parallel=True' was specified but no transformation for parallel execution was possible.\n",
            "\n",
            "To find out why, try turning on parallel diagnostics, see http://numba.pydata.org/numba-doc/latest/user/parallel.html#diagnostics for help.\n",
            "\n",
            "File \"../usr/local/lib/python3.6/dist-packages/umap/nndescent.py\", line 47:\n",
            "    @numba.njit(parallel=True)\n",
            "    def nn_descent(\n",
            "    ^\n",
            "\n",
            "  state.func_ir.loc))\n",
            "/usr/local/lib/python3.6/dist-packages/umap/spectral.py:229: UserWarning: Embedding a total of 2 separate connected components using meta-embedding (experimental)\n",
            "  n_components\n"
          ],
          "name": "stderr"
        },
        {
          "output_type": "execute_result",
          "data": {
            "text/plain": [
              "UMAP(a=None, angular_rp_forest=False, b=None, init='spectral',\n",
              "     learning_rate=1.0, local_connectivity=1.0, metric='euclidean',\n",
              "     metric_kwds=None, min_dist=0.1, n_components=2, n_epochs=None,\n",
              "     n_neighbors=15, negative_sample_rate=5, random_state=42,\n",
              "     repulsion_strength=1.0, set_op_mix_ratio=1.0, spread=1.0,\n",
              "     target_metric='categorical', target_metric_kwds=None,\n",
              "     target_n_neighbors=-1, target_weight=0.5, transform_queue_size=4.0,\n",
              "     transform_seed=42, verbose=False)"
            ]
          },
          "metadata": {
            "tags": []
          },
          "execution_count": 39
        }
      ]
    },
    {
      "cell_type": "code",
      "metadata": {
        "id": "u0k2b2GLjWrq",
        "colab_type": "code",
        "colab": {}
      },
      "source": [
        "standard_embedding = reducer.transform(health_dummies)"
      ],
      "execution_count": 0,
      "outputs": []
    },
    {
      "cell_type": "code",
      "metadata": {
        "id": "GWVz0bgIl6Fl",
        "colab_type": "code",
        "outputId": "33ce385c-2ab5-417e-ef56-b7e8de4d4d2e",
        "colab": {
          "base_uri": "https://localhost:8080/",
          "height": 134
        }
      },
      "source": [
        "embedding\n"
      ],
      "execution_count": 0,
      "outputs": [
        {
          "output_type": "execute_result",
          "data": {
            "text/plain": [
              "array([[ 3.0383363, -1.6489046],\n",
              "       [ 9.633529 ,  3.1783004],\n",
              "       [ 3.635198 , -0.9511818],\n",
              "       ...,\n",
              "       [ 2.7818737, -2.1610403],\n",
              "       [ 3.1837895, -4.6135902],\n",
              "       [11.783654 , -7.0666246]], dtype=float32)"
            ]
          },
          "metadata": {
            "tags": []
          },
          "execution_count": 41
        }
      ]
    },
    {
      "cell_type": "code",
      "metadata": {
        "id": "27YdvVKRmHFp",
        "colab_type": "code",
        "outputId": "daa2d77d-6b64-4c7b-c40f-804af1245d20",
        "colab": {
          "base_uri": "https://localhost:8080/",
          "height": 265
        }
      },
      "source": [
        "plt.scatter(standard_embedding[:, 0], standard_embedding[:, 1], c=kmeans_labels, s=0.1, cmap='Spectral');\n"
      ],
      "execution_count": 0,
      "outputs": [
        {
          "output_type": "display_data",
          "data": {
            "image/png": "[encoded data removed]",
            "text/plain": [
              "<Figure size 432x288 with 1 Axes>"
            ]
          },
          "metadata": {
            "tags": []
          }
        }
      ]
    },
    {
      "cell_type": "code",
      "metadata": {
        "id": "RbzZWaIZnj_9",
        "colab_type": "code",
        "outputId": "e8ea7bc8-5210-4567-d456-9565a0e4c29c",
        "colab": {
          "base_uri": "https://localhost:8080/",
          "height": 34
        }
      },
      "source": [
        "kmeans_labels.shape"
      ],
      "execution_count": 0,
      "outputs": [
        {
          "output_type": "execute_result",
          "data": {
            "text/plain": [
              "(111479,)"
            ]
          },
          "metadata": {
            "tags": []
          },
          "execution_count": 48
        }
      ]
    },
    {
      "cell_type": "code",
      "metadata": {
        "id": "A74FgCp5nuh3",
        "colab_type": "code",
        "colab": {}
      },
      "source": [
        "kmeans_labels"
      ],
      "execution_count": 0,
      "outputs": []
    },
    {
      "cell_type": "code",
      "metadata": {
        "id": "uzkM1bbVo4Dz",
        "colab_type": "code",
        "outputId": "d4508feb-a971-4655-cf88-76861fa5e6c6",
        "colab": {
          "base_uri": "https://localhost:8080/",
          "height": 67
        }
      },
      "source": [
        "kmeans = KMeans(n_clusters=2)\n",
        "kmeans.fit(health_dummies)"
      ],
      "execution_count": 0,
      "outputs": [
        {
          "output_type": "execute_result",
          "data": {
            "text/plain": [
              "KMeans(algorithm='auto', copy_x=True, init='k-means++', max_iter=300,\n",
              "       n_clusters=2, n_init=10, n_jobs=None, precompute_distances='auto',\n",
              "       random_state=None, tol=0.0001, verbose=0)"
            ]
          },
          "metadata": {
            "tags": []
          },
          "execution_count": 50
        }
      ]
    },
    {
      "cell_type": "code",
      "metadata": {
        "id": "gITYX-Hjqh7p",
        "colab_type": "code",
        "outputId": "86160fa7-2e1b-4a78-b4f5-16ba7302bb84",
        "colab": {
          "base_uri": "https://localhost:8080/",
          "height": 34
        }
      },
      "source": [
        "print(kmeans.labels_)"
      ],
      "execution_count": 0,
      "outputs": [
        {
          "output_type": "stream",
          "text": [
            "[0 0 0 ... 0 0 0]\n"
          ],
          "name": "stdout"
        }
      ]
    },
    {
      "cell_type": "code",
      "metadata": {
        "id": "Gi-5K_qbpFIz",
        "colab_type": "code",
        "colab": {}
      },
      "source": [
        "#kmeans.cluster_centers_"
      ],
      "execution_count": 0,
      "outputs": []
    },
    {
      "cell_type": "code",
      "metadata": {
        "id": "FxzdjcZDphh8",
        "colab_type": "code",
        "colab": {}
      },
      "source": [
        "#print(kmeans.cluster_centers_)"
      ],
      "execution_count": 0,
      "outputs": []
    },
    {
      "cell_type": "code",
      "metadata": {
        "id": "h3Zw1AyFp_Rb",
        "colab_type": "code",
        "colab": {}
      },
      "source": [
        "#plt.scatter(health_dummies[:,0],health_dummies[:,1], c=kmeans.labels_, cmap='rainbow')"
      ],
      "execution_count": 0,
      "outputs": []
    },
    {
      "cell_type": "markdown",
      "metadata": {
        "id": "P1CPf08rrItb",
        "colab_type": "text"
      },
      "source": [
        "**/////////////////////////////////////////////////////////////////////////////////////////////**"
      ]
    },
    {
      "cell_type": "markdown",
      "metadata": {
        "id": "IK3imunArLia",
        "colab_type": "text"
      },
      "source": [
        "**PCA**"
      ]
    },
    {
      "cell_type": "code",
      "metadata": {
        "id": "0LgyYFNtrL-y",
        "colab_type": "code",
        "colab": {}
      },
      "source": [
        "from sklearn.cluster import KMeans\n",
        "\n",
        "km = KMeans(n_clusters=3)\n",
        "\n",
        "km.fit(health_dummies)\n",
        "\n",
        "km_pred = km.predict(health_dummies)"
      ],
      "execution_count": 0,
      "outputs": []
    },
    {
      "cell_type": "code",
      "metadata": {
        "id": "UaGkAN8BsJ0B",
        "colab_type": "code",
        "colab": {}
      },
      "source": [
        "health_dummies['Cluster'] = km_pred"
      ],
      "execution_count": 0,
      "outputs": []
    },
    {
      "cell_type": "code",
      "metadata": {
        "id": "vKpFI6sPsRqT",
        "colab_type": "code",
        "outputId": "ad329f12-8c76-47d1-d5f7-d52095466cc4",
        "colab": {
          "base_uri": "https://localhost:8080/",
          "height": 294
        }
      },
      "source": [
        "health_dummies.tail()"
      ],
      "execution_count": 0,
      "outputs": [
        {
          "output_type": "execute_result",
          "data": {
            "text/html": [
              "<div>\n",
              "<style scoped>\n",
              "    .dataframe tbody tr th:only-of-type {\n",
              "        vertical-align: middle;\n",
              "    }\n",
              "\n",
              "    .dataframe tbody tr th {\n",
              "        vertical-align: top;\n",
              "    }\n",
              "\n",
              "    .dataframe thead th {\n",
              "        text-align: right;\n",
              "    }\n",
              "</style>\n",
              "<table border=\"1\" class=\"dataframe\">\n",
              "  <thead>\n",
              "    <tr style=\"text-align: right;\">\n",
              "      <th></th>\n",
              "      <th>Program Category_EMERGENCY</th>\n",
              "      <th>Program Category_INPATIENT</th>\n",
              "      <th>Program Category_OUTPATIENT</th>\n",
              "      <th>Program Category_RESIDENTIAL</th>\n",
              "      <th>Program Category_SUPPORT</th>\n",
              "      <th>Region Served_CENTRAL NY REGION</th>\n",
              "      <th>Region Served_HUDSON RIVER REGION</th>\n",
              "      <th>Region Served_LONG ISLAND REGION</th>\n",
              "      <th>Region Served_NEW YORK CITY REGION</th>\n",
              "      <th>Region Served_WESTERN REGION</th>\n",
              "      <th>Age Group_ADULT</th>\n",
              "      <th>Age Group_CHILD</th>\n",
              "      <th>Age Group_UNKNOWN</th>\n",
              "      <th>Sex_FEMALE</th>\n",
              "      <th>Sex_MALE</th>\n",
              "      <th>Sex_UNKNOWN</th>\n",
              "      <th>Transgender_CLIENT DIDN'T ANSWER</th>\n",
              "      <th>Transgender_NO, NOT TRANSGENDER</th>\n",
              "      <th>Transgender_UNKNOWN</th>\n",
              "      <th>Transgender_YES, TRANSGENDER</th>\n",
              "      <th>Sexual Orientation_BISEXUAL</th>\n",
              "      <th>Sexual Orientation_CLIENT DID NOT ANSWER</th>\n",
              "      <th>Sexual Orientation_LESBIAN OR GAY</th>\n",
              "      <th>Sexual Orientation_OTHER</th>\n",
              "      <th>Sexual Orientation_STRAIGHT OR HETEROSEXUAL</th>\n",
              "      <th>Sexual Orientation_UNKNOWN</th>\n",
              "      <th>Hispanic Ethnicity_NO, NOT HISPANIC/LATINO</th>\n",
              "      <th>Hispanic Ethnicity_UNKNOWN</th>\n",
              "      <th>Hispanic Ethnicity_YES, HISPANIC/LATINO</th>\n",
              "      <th>Race_BLACK ONLY</th>\n",
              "      <th>Race_MULTI-RACIAL</th>\n",
              "      <th>Race_OTHER</th>\n",
              "      <th>Race_UNKNOWN RACE</th>\n",
              "      <th>Race_WHITE ONLY</th>\n",
              "      <th>Living Situation_PRIVATE RESIDENCE</th>\n",
              "      <th>Living Situation_UNKNOWN</th>\n",
              "      <th>Household Composition_COHABITATES WITH OTHERS</th>\n",
              "      <th>Household Composition_LIVES ALONE</th>\n",
              "      <th>Household Composition_UNKNOWN</th>\n",
              "      <th>Preferred Language_AFRO-ASIATIC</th>\n",
              "      <th>...</th>\n",
              "      <th>SSDI Cash Assistance_NO</th>\n",
              "      <th>SSDI Cash Assistance_UNKNOWN</th>\n",
              "      <th>SSDI Cash Assistance_YES</th>\n",
              "      <th>Veterans Disability Benefits_NO</th>\n",
              "      <th>Veterans Disability Benefits_UNKNOWN</th>\n",
              "      <th>Veterans Disability Benefits_YES</th>\n",
              "      <th>Veterans Cash Assistance_NO</th>\n",
              "      <th>Veterans Cash Assistance_UNKNOWN</th>\n",
              "      <th>Veterans Cash Assistance_YES</th>\n",
              "      <th>Public Assistance Cash Program_NO</th>\n",
              "      <th>Public Assistance Cash Program_UNKNOWN</th>\n",
              "      <th>Public Assistance Cash Program_YES</th>\n",
              "      <th>Other Cash Benefits_NO</th>\n",
              "      <th>Other Cash Benefits_UNKNOWN</th>\n",
              "      <th>Other Cash Benefits_YES</th>\n",
              "      <th>Medicaid and Medicare Insurance_NO</th>\n",
              "      <th>Medicaid and Medicare Insurance_UNKNOWN</th>\n",
              "      <th>Medicaid and Medicare Insurance_YES</th>\n",
              "      <th>Unknown Insurance Coverage_NO</th>\n",
              "      <th>No Insurance_NO</th>\n",
              "      <th>Medicaid Insurance_YES</th>\n",
              "      <th>Medicaid Managed Insurance_NO</th>\n",
              "      <th>Medicaid Managed Insurance_UNKNOWN</th>\n",
              "      <th>Medicaid Managed Insurance_YES</th>\n",
              "      <th>Medicare Insurance_NO</th>\n",
              "      <th>Medicare Insurance_UNKNOWN</th>\n",
              "      <th>Medicare Insurance_YES</th>\n",
              "      <th>Private Insurance_NO</th>\n",
              "      <th>Private Insurance_UNKNOWN</th>\n",
              "      <th>Private Insurance_YES</th>\n",
              "      <th>Child Health Plus Insurance_NO</th>\n",
              "      <th>Child Health Plus Insurance_UNKNOWN</th>\n",
              "      <th>Child Health Plus Insurance_YES</th>\n",
              "      <th>Other Insurance_NO</th>\n",
              "      <th>Other Insurance_UNKNOWN</th>\n",
              "      <th>Other Insurance_YES</th>\n",
              "      <th>Criminal Justice Status_NO</th>\n",
              "      <th>Criminal Justice Status_UNKNOWN</th>\n",
              "      <th>Criminal Justice Status_YES</th>\n",
              "      <th>Cluster</th>\n",
              "    </tr>\n",
              "  </thead>\n",
              "  <tbody>\n",
              "    <tr>\n",
              "      <th>187176</th>\n",
              "      <td>0</td>\n",
              "      <td>0</td>\n",
              "      <td>0</td>\n",
              "      <td>0</td>\n",
              "      <td>1</td>\n",
              "      <td>0</td>\n",
              "      <td>0</td>\n",
              "      <td>0</td>\n",
              "      <td>0</td>\n",
              "      <td>1</td>\n",
              "      <td>1</td>\n",
              "      <td>0</td>\n",
              "      <td>0</td>\n",
              "      <td>0</td>\n",
              "      <td>1</td>\n",
              "      <td>0</td>\n",
              "      <td>0</td>\n",
              "      <td>1</td>\n",
              "      <td>0</td>\n",
              "      <td>0</td>\n",
              "      <td>0</td>\n",
              "      <td>0</td>\n",
              "      <td>0</td>\n",
              "      <td>0</td>\n",
              "      <td>1</td>\n",
              "      <td>0</td>\n",
              "      <td>1</td>\n",
              "      <td>0</td>\n",
              "      <td>0</td>\n",
              "      <td>0</td>\n",
              "      <td>0</td>\n",
              "      <td>0</td>\n",
              "      <td>0</td>\n",
              "      <td>1</td>\n",
              "      <td>1</td>\n",
              "      <td>0</td>\n",
              "      <td>0</td>\n",
              "      <td>1</td>\n",
              "      <td>0</td>\n",
              "      <td>0</td>\n",
              "      <td>...</td>\n",
              "      <td>0</td>\n",
              "      <td>0</td>\n",
              "      <td>1</td>\n",
              "      <td>1</td>\n",
              "      <td>0</td>\n",
              "      <td>0</td>\n",
              "      <td>1</td>\n",
              "      <td>0</td>\n",
              "      <td>0</td>\n",
              "      <td>1</td>\n",
              "      <td>0</td>\n",
              "      <td>0</td>\n",
              "      <td>0</td>\n",
              "      <td>0</td>\n",
              "      <td>1</td>\n",
              "      <td>0</td>\n",
              "      <td>0</td>\n",
              "      <td>1</td>\n",
              "      <td>1</td>\n",
              "      <td>1</td>\n",
              "      <td>1</td>\n",
              "      <td>1</td>\n",
              "      <td>0</td>\n",
              "      <td>0</td>\n",
              "      <td>0</td>\n",
              "      <td>0</td>\n",
              "      <td>1</td>\n",
              "      <td>1</td>\n",
              "      <td>0</td>\n",
              "      <td>0</td>\n",
              "      <td>1</td>\n",
              "      <td>0</td>\n",
              "      <td>0</td>\n",
              "      <td>1</td>\n",
              "      <td>0</td>\n",
              "      <td>0</td>\n",
              "      <td>1</td>\n",
              "      <td>0</td>\n",
              "      <td>0</td>\n",
              "      <td>2</td>\n",
              "    </tr>\n",
              "    <tr>\n",
              "      <th>187177</th>\n",
              "      <td>0</td>\n",
              "      <td>0</td>\n",
              "      <td>1</td>\n",
              "      <td>0</td>\n",
              "      <td>0</td>\n",
              "      <td>0</td>\n",
              "      <td>0</td>\n",
              "      <td>1</td>\n",
              "      <td>0</td>\n",
              "      <td>0</td>\n",
              "      <td>1</td>\n",
              "      <td>0</td>\n",
              "      <td>0</td>\n",
              "      <td>1</td>\n",
              "      <td>0</td>\n",
              "      <td>0</td>\n",
              "      <td>0</td>\n",
              "      <td>1</td>\n",
              "      <td>0</td>\n",
              "      <td>0</td>\n",
              "      <td>0</td>\n",
              "      <td>0</td>\n",
              "      <td>0</td>\n",
              "      <td>0</td>\n",
              "      <td>1</td>\n",
              "      <td>0</td>\n",
              "      <td>1</td>\n",
              "      <td>0</td>\n",
              "      <td>0</td>\n",
              "      <td>1</td>\n",
              "      <td>0</td>\n",
              "      <td>0</td>\n",
              "      <td>0</td>\n",
              "      <td>0</td>\n",
              "      <td>1</td>\n",
              "      <td>0</td>\n",
              "      <td>0</td>\n",
              "      <td>1</td>\n",
              "      <td>0</td>\n",
              "      <td>0</td>\n",
              "      <td>...</td>\n",
              "      <td>0</td>\n",
              "      <td>0</td>\n",
              "      <td>1</td>\n",
              "      <td>1</td>\n",
              "      <td>0</td>\n",
              "      <td>0</td>\n",
              "      <td>1</td>\n",
              "      <td>0</td>\n",
              "      <td>0</td>\n",
              "      <td>0</td>\n",
              "      <td>0</td>\n",
              "      <td>1</td>\n",
              "      <td>1</td>\n",
              "      <td>0</td>\n",
              "      <td>0</td>\n",
              "      <td>0</td>\n",
              "      <td>0</td>\n",
              "      <td>1</td>\n",
              "      <td>1</td>\n",
              "      <td>1</td>\n",
              "      <td>1</td>\n",
              "      <td>0</td>\n",
              "      <td>0</td>\n",
              "      <td>1</td>\n",
              "      <td>0</td>\n",
              "      <td>0</td>\n",
              "      <td>1</td>\n",
              "      <td>1</td>\n",
              "      <td>0</td>\n",
              "      <td>0</td>\n",
              "      <td>1</td>\n",
              "      <td>0</td>\n",
              "      <td>0</td>\n",
              "      <td>1</td>\n",
              "      <td>0</td>\n",
              "      <td>0</td>\n",
              "      <td>1</td>\n",
              "      <td>0</td>\n",
              "      <td>0</td>\n",
              "      <td>2</td>\n",
              "    </tr>\n",
              "    <tr>\n",
              "      <th>187181</th>\n",
              "      <td>0</td>\n",
              "      <td>0</td>\n",
              "      <td>1</td>\n",
              "      <td>0</td>\n",
              "      <td>0</td>\n",
              "      <td>0</td>\n",
              "      <td>0</td>\n",
              "      <td>0</td>\n",
              "      <td>0</td>\n",
              "      <td>1</td>\n",
              "      <td>1</td>\n",
              "      <td>0</td>\n",
              "      <td>0</td>\n",
              "      <td>0</td>\n",
              "      <td>1</td>\n",
              "      <td>0</td>\n",
              "      <td>0</td>\n",
              "      <td>1</td>\n",
              "      <td>0</td>\n",
              "      <td>0</td>\n",
              "      <td>0</td>\n",
              "      <td>0</td>\n",
              "      <td>0</td>\n",
              "      <td>0</td>\n",
              "      <td>1</td>\n",
              "      <td>0</td>\n",
              "      <td>1</td>\n",
              "      <td>0</td>\n",
              "      <td>0</td>\n",
              "      <td>0</td>\n",
              "      <td>1</td>\n",
              "      <td>0</td>\n",
              "      <td>0</td>\n",
              "      <td>0</td>\n",
              "      <td>1</td>\n",
              "      <td>0</td>\n",
              "      <td>1</td>\n",
              "      <td>0</td>\n",
              "      <td>0</td>\n",
              "      <td>0</td>\n",
              "      <td>...</td>\n",
              "      <td>1</td>\n",
              "      <td>0</td>\n",
              "      <td>0</td>\n",
              "      <td>1</td>\n",
              "      <td>0</td>\n",
              "      <td>0</td>\n",
              "      <td>1</td>\n",
              "      <td>0</td>\n",
              "      <td>0</td>\n",
              "      <td>0</td>\n",
              "      <td>0</td>\n",
              "      <td>1</td>\n",
              "      <td>1</td>\n",
              "      <td>0</td>\n",
              "      <td>0</td>\n",
              "      <td>1</td>\n",
              "      <td>0</td>\n",
              "      <td>0</td>\n",
              "      <td>1</td>\n",
              "      <td>1</td>\n",
              "      <td>1</td>\n",
              "      <td>0</td>\n",
              "      <td>0</td>\n",
              "      <td>1</td>\n",
              "      <td>1</td>\n",
              "      <td>0</td>\n",
              "      <td>0</td>\n",
              "      <td>1</td>\n",
              "      <td>0</td>\n",
              "      <td>0</td>\n",
              "      <td>1</td>\n",
              "      <td>0</td>\n",
              "      <td>0</td>\n",
              "      <td>1</td>\n",
              "      <td>0</td>\n",
              "      <td>0</td>\n",
              "      <td>1</td>\n",
              "      <td>0</td>\n",
              "      <td>0</td>\n",
              "      <td>1</td>\n",
              "    </tr>\n",
              "    <tr>\n",
              "      <th>187184</th>\n",
              "      <td>0</td>\n",
              "      <td>0</td>\n",
              "      <td>0</td>\n",
              "      <td>1</td>\n",
              "      <td>0</td>\n",
              "      <td>0</td>\n",
              "      <td>0</td>\n",
              "      <td>0</td>\n",
              "      <td>1</td>\n",
              "      <td>0</td>\n",
              "      <td>1</td>\n",
              "      <td>0</td>\n",
              "      <td>0</td>\n",
              "      <td>1</td>\n",
              "      <td>0</td>\n",
              "      <td>0</td>\n",
              "      <td>0</td>\n",
              "      <td>1</td>\n",
              "      <td>0</td>\n",
              "      <td>0</td>\n",
              "      <td>0</td>\n",
              "      <td>0</td>\n",
              "      <td>0</td>\n",
              "      <td>0</td>\n",
              "      <td>1</td>\n",
              "      <td>0</td>\n",
              "      <td>0</td>\n",
              "      <td>0</td>\n",
              "      <td>1</td>\n",
              "      <td>0</td>\n",
              "      <td>1</td>\n",
              "      <td>0</td>\n",
              "      <td>0</td>\n",
              "      <td>0</td>\n",
              "      <td>1</td>\n",
              "      <td>0</td>\n",
              "      <td>0</td>\n",
              "      <td>1</td>\n",
              "      <td>0</td>\n",
              "      <td>0</td>\n",
              "      <td>...</td>\n",
              "      <td>1</td>\n",
              "      <td>0</td>\n",
              "      <td>0</td>\n",
              "      <td>1</td>\n",
              "      <td>0</td>\n",
              "      <td>0</td>\n",
              "      <td>1</td>\n",
              "      <td>0</td>\n",
              "      <td>0</td>\n",
              "      <td>1</td>\n",
              "      <td>0</td>\n",
              "      <td>0</td>\n",
              "      <td>1</td>\n",
              "      <td>0</td>\n",
              "      <td>0</td>\n",
              "      <td>1</td>\n",
              "      <td>0</td>\n",
              "      <td>0</td>\n",
              "      <td>1</td>\n",
              "      <td>1</td>\n",
              "      <td>1</td>\n",
              "      <td>0</td>\n",
              "      <td>0</td>\n",
              "      <td>1</td>\n",
              "      <td>1</td>\n",
              "      <td>0</td>\n",
              "      <td>0</td>\n",
              "      <td>1</td>\n",
              "      <td>0</td>\n",
              "      <td>0</td>\n",
              "      <td>1</td>\n",
              "      <td>0</td>\n",
              "      <td>0</td>\n",
              "      <td>1</td>\n",
              "      <td>0</td>\n",
              "      <td>0</td>\n",
              "      <td>0</td>\n",
              "      <td>0</td>\n",
              "      <td>1</td>\n",
              "      <td>2</td>\n",
              "    </tr>\n",
              "    <tr>\n",
              "      <th>187191</th>\n",
              "      <td>0</td>\n",
              "      <td>0</td>\n",
              "      <td>1</td>\n",
              "      <td>0</td>\n",
              "      <td>0</td>\n",
              "      <td>1</td>\n",
              "      <td>0</td>\n",
              "      <td>0</td>\n",
              "      <td>0</td>\n",
              "      <td>0</td>\n",
              "      <td>0</td>\n",
              "      <td>1</td>\n",
              "      <td>0</td>\n",
              "      <td>1</td>\n",
              "      <td>0</td>\n",
              "      <td>0</td>\n",
              "      <td>0</td>\n",
              "      <td>1</td>\n",
              "      <td>0</td>\n",
              "      <td>0</td>\n",
              "      <td>0</td>\n",
              "      <td>0</td>\n",
              "      <td>0</td>\n",
              "      <td>0</td>\n",
              "      <td>1</td>\n",
              "      <td>0</td>\n",
              "      <td>1</td>\n",
              "      <td>0</td>\n",
              "      <td>0</td>\n",
              "      <td>0</td>\n",
              "      <td>0</td>\n",
              "      <td>0</td>\n",
              "      <td>0</td>\n",
              "      <td>1</td>\n",
              "      <td>1</td>\n",
              "      <td>0</td>\n",
              "      <td>1</td>\n",
              "      <td>0</td>\n",
              "      <td>0</td>\n",
              "      <td>0</td>\n",
              "      <td>...</td>\n",
              "      <td>1</td>\n",
              "      <td>0</td>\n",
              "      <td>0</td>\n",
              "      <td>1</td>\n",
              "      <td>0</td>\n",
              "      <td>0</td>\n",
              "      <td>1</td>\n",
              "      <td>0</td>\n",
              "      <td>0</td>\n",
              "      <td>1</td>\n",
              "      <td>0</td>\n",
              "      <td>0</td>\n",
              "      <td>1</td>\n",
              "      <td>0</td>\n",
              "      <td>0</td>\n",
              "      <td>1</td>\n",
              "      <td>0</td>\n",
              "      <td>0</td>\n",
              "      <td>1</td>\n",
              "      <td>1</td>\n",
              "      <td>1</td>\n",
              "      <td>1</td>\n",
              "      <td>0</td>\n",
              "      <td>0</td>\n",
              "      <td>1</td>\n",
              "      <td>0</td>\n",
              "      <td>0</td>\n",
              "      <td>1</td>\n",
              "      <td>0</td>\n",
              "      <td>0</td>\n",
              "      <td>1</td>\n",
              "      <td>0</td>\n",
              "      <td>0</td>\n",
              "      <td>1</td>\n",
              "      <td>0</td>\n",
              "      <td>0</td>\n",
              "      <td>1</td>\n",
              "      <td>0</td>\n",
              "      <td>0</td>\n",
              "      <td>1</td>\n",
              "    </tr>\n",
              "  </tbody>\n",
              "</table>\n",
              "<p>5 rows × 208 columns</p>\n",
              "</div>"
            ],
            "text/plain": [
              "        Program Category_EMERGENCY  ...  Cluster\n",
              "187176                           0  ...        2\n",
              "187177                           0  ...        2\n",
              "187181                           0  ...        1\n",
              "187184                           0  ...        2\n",
              "187191                           0  ...        1\n",
              "\n",
              "[5 rows x 208 columns]"
            ]
          },
          "metadata": {
            "tags": []
          },
          "execution_count": 64
        }
      ]
    },
    {
      "cell_type": "markdown",
      "metadata": {
        "id": "mzel_oopAGoy",
        "colab_type": "text"
      },
      "source": [
        "**/////////////////////////////////////////////////////////////////////////////**"
      ]
    },
    {
      "cell_type": "markdown",
      "metadata": {
        "id": "CI-ntX56AQ2a",
        "colab_type": "text"
      },
      "source": [
        "**///////////////////////////////////////////////////////////////////////////**"
      ]
    },
    {
      "cell_type": "markdown",
      "metadata": {
        "id": "41trejO2ApLU",
        "colab_type": "text"
      },
      "source": [
        "##**KMODES**"
      ]
    },
    {
      "cell_type": "code",
      "metadata": {
        "id": "isbPtegJAUd0",
        "colab_type": "code",
        "colab": {}
      },
      "source": [
        "km = KModes(n_clusters=4, init='Huang', n_init=5, verbose=1)"
      ],
      "execution_count": 0,
      "outputs": []
    }
  ]
}